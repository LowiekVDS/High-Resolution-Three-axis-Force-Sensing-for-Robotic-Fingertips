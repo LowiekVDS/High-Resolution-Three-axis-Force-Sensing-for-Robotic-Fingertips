{
 "cells": [
  {
   "cell_type": "markdown",
   "metadata": {},
   "source": [
    "# Model creation stage III (4x8)"
   ]
  },
  {
   "cell_type": "code",
   "execution_count": 1,
   "metadata": {},
   "outputs": [],
   "source": [
    "%load_ext autoreload\n",
    "%autoreload 2"
   ]
  },
  {
   "cell_type": "markdown",
   "metadata": {},
   "source": [
    "# Setup"
   ]
  },
  {
   "cell_type": "code",
   "execution_count": 2,
   "metadata": {
    "metadata": {}
   },
   "outputs": [],
   "source": [
    "import time\n",
    "import time\n",
    "import socket\n",
    "import serial\n",
    "from tools.mlx import *\n",
    "import time\n",
    "import numpy as np\n",
    "import json\n",
    "import cv2\n",
    "import multiprocessing\n",
    "\n",
    "BAUD = 115200 # Baud rate\n",
    "COM = '/dev/ttyACM2' # Serial port\n",
    "ENABLE_WS = True # Enable WebSocket server. Disable if not using websocket. Script will crash otherwise.\n",
    "NR_OF_SENSORS = 32 # Number of sensors"
   ]
  },
  {
   "cell_type": "code",
   "execution_count": 3,
   "metadata": {},
   "outputs": [],
   "source": [
    "ser = serial.Serial(COM, BAUD, timeout=1)\n",
    "ser.close()"
   ]
  },
  {
   "cell_type": "code",
   "execution_count": 4,
   "metadata": {},
   "outputs": [],
   "source": [
    "udp_server_address = ('localhost', 9870)\n",
    "udp_socket = socket.socket(socket.AF_INET, socket.SOCK_DGRAM)"
   ]
  },
  {
   "cell_type": "code",
   "execution_count": 5,
   "metadata": {},
   "outputs": [],
   "source": [
    "import numpy as np\n",
    "import cv2\n",
    "\n",
    "def plot_colormap(queue, scale=4):\n",
    "    \n",
    "    is_first = True\n",
    "    zero_bias = np.zeros((3, 8, 4))\n",
    "    \n",
    "    while True:\n",
    "        all_data = queue.get()\n",
    "        if all_data is None:\n",
    "            break\n",
    "\n",
    "        components = ['X', 'Y', 'Z']\n",
    "        data_matrices = []\n",
    "        for i in range(3):\n",
    "            data = all_data[i * 32 : (i + 1) * 32]\n",
    "            data_matrix = np.reshape(data, (8, 4))\n",
    "            \n",
    "            if is_first:\n",
    "                zero_bias[i] = data_matrix\n",
    "            \n",
    "            data_matrix = data_matrix - zero_bias[i]\n",
    "            \n",
    "            data_matrices.append(data_matrix)\n",
    "            \n",
    "            \n",
    "\n",
    "            # Scale the values to 0-255 for better visualization\n",
    "            if i == 2:\n",
    "                data_matrix = ((data_matrix + 30) / 40 * 255).astype(np.uint8)\n",
    "            else:\n",
    "                data_matrix = ((data_matrix + 10) / 20 * 255).astype(np.uint8)\n",
    "\n",
    "            # Create a colormap image using OpenCV\n",
    "            colormap = cv2.applyColorMap(data_matrix, cv2.COLORMAP_VIRIDIS)\n",
    "            scaled_colormap = cv2.resize(colormap, (400, 800), interpolation=cv2.INTER_NEAREST)  # Adjust the size as needed\n",
    "\n",
    "            # Display the resized colormap image\n",
    "            cv2.imshow('Map ' + components[i], scaled_colormap)\n",
    "            \n",
    "        is_first = False\n",
    "        \n",
    "        # Create a blank image for the vector field\n",
    "        vector_field_img = np.zeros((800, 400, 3), dtype=np.uint8)\n",
    "        \n",
    "        # Calculate the scaling factors\n",
    "        scale_factor_x = vector_field_img.shape[1] / 4\n",
    "        scale_factor_y = vector_field_img.shape[0] / 8\n",
    "        \n",
    "        z_data_matrix = ((data_matrices[2] + 30) / 40 * 255).astype(np.uint8)\n",
    "        z_colormap = cv2.applyColorMap(z_data_matrix, cv2.COLORMAP_VIRIDIS) \n",
    "        z_data_matrix_resized = cv2.resize(z_colormap, (400, 800), interpolation=cv2.INTER_NEAREST)\n",
    "       \n",
    "\n",
    "        # Draw the vector field (quiver plot)\n",
    "        for y in range(8):\n",
    "            for x in range(4):\n",
    "                start_point = (int(x * scale_factor_x + scale_factor_x / 2), int(y * scale_factor_y + scale_factor_y / 2))\n",
    "                end_point = (\n",
    "                    int(start_point[0] + data_matrices[1][y, x] * scale),  # X-component\n",
    "                    int(start_point[1] - data_matrices[0][y, x] * scale)   # Y-component\n",
    "                )\n",
    "                cv2.arrowedLine(z_data_matrix_resized, start_point, end_point, (255, 0, 0), 2, tipLength=0.3)\n",
    "\n",
    "        # Display the vector field image\n",
    "        cv2.imshow('Vector Field', z_data_matrix_resized)\n",
    "\n",
    "        cv2.waitKey(1)\n"
   ]
  },
  {
   "cell_type": "code",
   "execution_count": 6,
   "metadata": {},
   "outputs": [],
   "source": [
    "def readout_for_t_seconds(t):\n",
    "    \n",
    "    queue = multiprocessing.Queue()\n",
    "    process = multiprocessing.Process(target=plot_colormap, args=(queue,))\n",
    "    process.start()        \n",
    "    \n",
    "    t0 = time.time()\n",
    "    \n",
    "    ser.open()\n",
    "    while time.time() - t0 < t:    \n",
    "        \n",
    "        data = ser.read(1)\n",
    "        if data == b'\\xAA':\n",
    "            \n",
    "            data_bytes = ser.read(6 * NR_OF_SENSORS)\n",
    "            \n",
    "            row = {}\n",
    "\n",
    "            for i in range(NR_OF_SENSORS):\n",
    "                \n",
    "                # Encoding\n",
    "                x = (data_bytes[i * 3 * 2] << 8) + (data_bytes[i * 3 * 2 + 1])\n",
    "                y = (data_bytes[i * 3 * 2 + 2] << 8) + (data_bytes[i * 3 * 2 + 3])\n",
    "                z = (data_bytes[i * 3 * 2 + 4] << 8) + (data_bytes[i * 3 * 2 + 5])\n",
    "\n",
    "                x = x / 2**16 * 20 + (-10)\n",
    "                y = y / 2**16 * 20 + (-10)\n",
    "                z = z / 2**16 * 40 + (-30)\n",
    "                \n",
    "                row[f\"G_x{i}\"] = x\n",
    "                row[f\"G_y{i}\"] = y\n",
    "                row[f\"G_z{i}\"] = z      \n",
    "                \n",
    "            queue.put(np.array([row[f\"G_x{i}\"] for i in range(NR_OF_SENSORS)] + [row[f\"G_y{i}\"] for i in range(NR_OF_SENSORS)] + [row[f\"G_z{i}\"] for i in range(NR_OF_SENSORS)]))    \n",
    "            json_data = json.dumps(row)\n",
    "            udp_socket.sendto(json_data.encode(), udp_server_address)\n",
    "    \n",
    "    queue.put(None)\n",
    "    ser.close()"
   ]
  },
  {
   "cell_type": "code",
   "execution_count": 8,
   "metadata": {},
   "outputs": [
    {
     "ename": "KeyboardInterrupt",
     "evalue": "",
     "output_type": "error",
     "traceback": [
      "\u001b[0;31m---------------------------------------------------------------------------\u001b[0m",
      "\u001b[0;31mKeyboardInterrupt\u001b[0m                         Traceback (most recent call last)",
      "Cell \u001b[0;32mIn [8], line 2\u001b[0m\n\u001b[1;32m      1\u001b[0m ser\u001b[38;5;241m.\u001b[39mclose()\n\u001b[0;32m----> 2\u001b[0m readout_for_t_seconds(\u001b[38;5;241m300\u001b[39m)\n",
      "Cell \u001b[0;32mIn [6], line 12\u001b[0m, in \u001b[0;36mreadout_for_t_seconds\u001b[0;34m(t)\u001b[0m\n\u001b[1;32m      9\u001b[0m ser\u001b[38;5;241m.\u001b[39mopen()\n\u001b[1;32m     10\u001b[0m \u001b[38;5;28;01mwhile\u001b[39;00m time\u001b[38;5;241m.\u001b[39mtime() \u001b[38;5;241m-\u001b[39m t0 \u001b[38;5;241m<\u001b[39m t:    \n\u001b[0;32m---> 12\u001b[0m     data \u001b[38;5;241m=\u001b[39m \u001b[43mser\u001b[49m\u001b[38;5;241;43m.\u001b[39;49m\u001b[43mread\u001b[49m\u001b[43m(\u001b[49m\u001b[38;5;241;43m1\u001b[39;49m\u001b[43m)\u001b[49m\n\u001b[1;32m     13\u001b[0m     \u001b[38;5;28;01mif\u001b[39;00m data \u001b[38;5;241m==\u001b[39m \u001b[38;5;124mb\u001b[39m\u001b[38;5;124m'\u001b[39m\u001b[38;5;130;01m\\xAA\u001b[39;00m\u001b[38;5;124m'\u001b[39m:\n\u001b[1;32m     15\u001b[0m         data_bytes \u001b[38;5;241m=\u001b[39m ser\u001b[38;5;241m.\u001b[39mread(\u001b[38;5;241m6\u001b[39m \u001b[38;5;241m*\u001b[39m NR_OF_SENSORS)\n",
      "File \u001b[0;32m~/.local/lib/python3.10/site-packages/serial/serialposix.py:565\u001b[0m, in \u001b[0;36mSerial.read\u001b[0;34m(self, size)\u001b[0m\n\u001b[1;32m    563\u001b[0m \u001b[38;5;28;01mwhile\u001b[39;00m \u001b[38;5;28mlen\u001b[39m(read) \u001b[38;5;241m<\u001b[39m size:\n\u001b[1;32m    564\u001b[0m     \u001b[38;5;28;01mtry\u001b[39;00m:\n\u001b[0;32m--> 565\u001b[0m         ready, _, _ \u001b[38;5;241m=\u001b[39m \u001b[43mselect\u001b[49m\u001b[38;5;241;43m.\u001b[39;49m\u001b[43mselect\u001b[49m\u001b[43m(\u001b[49m\u001b[43m[\u001b[49m\u001b[38;5;28;43mself\u001b[39;49m\u001b[38;5;241;43m.\u001b[39;49m\u001b[43mfd\u001b[49m\u001b[43m,\u001b[49m\u001b[43m \u001b[49m\u001b[38;5;28;43mself\u001b[39;49m\u001b[38;5;241;43m.\u001b[39;49m\u001b[43mpipe_abort_read_r\u001b[49m\u001b[43m]\u001b[49m\u001b[43m,\u001b[49m\u001b[43m \u001b[49m\u001b[43m[\u001b[49m\u001b[43m]\u001b[49m\u001b[43m,\u001b[49m\u001b[43m \u001b[49m\u001b[43m[\u001b[49m\u001b[43m]\u001b[49m\u001b[43m,\u001b[49m\u001b[43m \u001b[49m\u001b[43mtimeout\u001b[49m\u001b[38;5;241;43m.\u001b[39;49m\u001b[43mtime_left\u001b[49m\u001b[43m(\u001b[49m\u001b[43m)\u001b[49m\u001b[43m)\u001b[49m\n\u001b[1;32m    566\u001b[0m         \u001b[38;5;28;01mif\u001b[39;00m \u001b[38;5;28mself\u001b[39m\u001b[38;5;241m.\u001b[39mpipe_abort_read_r \u001b[38;5;129;01min\u001b[39;00m ready:\n\u001b[1;32m    567\u001b[0m             os\u001b[38;5;241m.\u001b[39mread(\u001b[38;5;28mself\u001b[39m\u001b[38;5;241m.\u001b[39mpipe_abort_read_r, \u001b[38;5;241m1000\u001b[39m)\n",
      "\u001b[0;31mKeyboardInterrupt\u001b[0m: "
     ]
    }
   ],
   "source": [
    "ser.close()\n",
    "readout_for_t_seconds(300)"
   ]
  },
  {
   "cell_type": "code",
   "execution_count": 9,
   "metadata": {},
   "outputs": [],
   "source": [
    "ser.close()"
   ]
  },
  {
   "cell_type": "code",
   "execution_count": null,
   "metadata": {},
   "outputs": [],
   "source": []
  },
  {
   "cell_type": "code",
   "execution_count": null,
   "metadata": {},
   "outputs": [],
   "source": []
  }
 ],
 "metadata": {
  "kernelspec": {
   "display_name": "Python 3",
   "language": "python",
   "name": "python3"
  },
  "language_info": {
   "codemirror_mode": {
    "name": "ipython",
    "version": 3
   },
   "file_extension": ".py",
   "mimetype": "text/x-python",
   "name": "python",
   "nbconvert_exporter": "python",
   "pygments_lexer": "ipython3",
   "version": "3.10.12"
  }
 },
 "nbformat": 4,
 "nbformat_minor": 2
}
