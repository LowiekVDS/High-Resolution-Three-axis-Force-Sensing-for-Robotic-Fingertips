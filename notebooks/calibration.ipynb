{
 "cells": [
  {
   "cell_type": "code",
   "execution_count": 1,
   "metadata": {},
   "outputs": [],
   "source": [
    "%load_ext autoreload\n",
    "%autoreload 2"
   ]
  },
  {
   "cell_type": "code",
   "execution_count": 2,
   "metadata": {},
   "outputs": [],
   "source": [
    "import rtde_control, rtde_receive\n",
    "\n",
    "ROBOT_HOST = \"10.42.0.162\" # IP address of the robot\n",
    "\n",
    "rtde_r = rtde_receive.RTDEReceiveInterface(ROBOT_HOST)\n",
    "rtde_c = rtde_control.RTDEControlInterface(ROBOT_HOST)\n"
   ]
  },
  {
   "cell_type": "code",
   "execution_count": 3,
   "metadata": {},
   "outputs": [],
   "source": [
    "import time\n",
    "from tools.helpers import MeasuringInterface\n",
    "measuring_interface = MeasuringInterface(rtde_r)"
   ]
  },
  {
   "cell_type": "code",
   "execution_count": 4,
   "metadata": {},
   "outputs": [],
   "source": [
    "from tools.controller import *\n",
    "controller = CalibrationController(rtde_r, rtde_c)\n",
    "\n",
    "start_point = rtde_r.getActualTCPPose()"
   ]
  },
  {
   "cell_type": "code",
   "execution_count": 5,
   "metadata": {},
   "outputs": [],
   "source": [
    "# These are the poses that the robot should go to in order to \"touch\" the object.\n",
    "# In a further cell, we can calibrate the tool width out before making a grid\n",
    "\n",
    "# Top point\n",
    "controller.move_absolute(start_point[0:3])\n",
    "top_point_z = controller.find_contact_point([0, 0, -1])[2] \n",
    "controller.move_absolute(start_point[0:3])\n",
    "\n",
    "depth = start_point[2] - top_point_z + 0.002\n",
    "\n",
    "# Double X points\n",
    "controller.move_relative([0.02, 0.003, 0])\n",
    "controller.move_relative([0.0, 0, -depth], 0.01)\n",
    "x_pose_1 = controller.find_contact_point([-1, 0, 0])[0:2]\n",
    "controller.move_relative([0.005, 0, 0])\n",
    "\n",
    "controller.move_relative([0, -0.003 * 2, 0])\n",
    "x_pose_2 = controller.find_contact_point([-1, 0, 0])[0:2]\n",
    "controller.move_relative([0.01, 0, depth])\n",
    "controller.move_absolute(start_point[0:3])\n",
    "\n",
    "# Extra x point other side\n",
    "controller.move_absolute(start_point[0:3])\n",
    "controller.move_relative([-0.02, 0.003, 0])\n",
    "controller.move_relative([0.0, 0, -depth], 0.01)\n",
    "x_pose_3 = controller.find_contact_point([1, 0, 0])[0:2]\n",
    "controller.move_relative([-0.005, 0, 0])\n",
    "controller.move_absolute(start_point[0:3])\n",
    "\n",
    "\n",
    "# Single Y point\n",
    "controller.move_relative([0, 0.02, 0])\n",
    "controller.move_relative([0.0, 0, -depth], 0.01)\n",
    "y_pose_1 = controller.find_contact_point([0, -1, 0])[0:2]\n",
    "controller.move_relative([0, 0.01, depth])\n",
    "controller.move_absolute(start_point[0:3])\n",
    "\n",
    "# Extra single Y point\n",
    "controller.move_relative([0, -0.02, 0])\n",
    "controller.move_relative([0.0, 0, -depth], 0.01)\n",
    "y_pose_2 = controller.find_contact_point([0, 1, 0])[0:2]\n",
    "controller.move_relative([0, -0.01, depth])\n",
    "controller.move_absolute(start_point[0:3])\n",
    "\n",
    "poses = np.array([x_pose_1, x_pose_2, x_pose_3, y_pose_1, y_pose_2])"
   ]
  },
  {
   "cell_type": "code",
   "execution_count": 6,
   "metadata": {},
   "outputs": [
    {
     "name": "stdout",
     "output_type": "stream",
     "text": [
      "Widht x: 0.013126759966742339, width y: 0.013050843139463923\n"
     ]
    },
    {
     "data": {
      "image/png": "[encoded data removed]",
      "text/plain": [
       "<Figure size 640x480 with 1 Axes>"
      ]
     },
     "metadata": {},
     "output_type": "display_data"
    }
   ],
   "source": [
    "from tools.helpers import *\n",
    "import matplotlib.pyplot as plt\n",
    "\n",
    "tool_width = 0.0025 / 2 # We want radius\n",
    "\n",
    "width_x = np.linalg.norm(np.array(x_pose_1) - np.array(x_pose_3)) - 2 * tool_width\n",
    "width_y = np.linalg.norm(np.array(y_pose_1) - np.array(y_pose_2)) - 2 * tool_width\n",
    "\n",
    "print(f\"Widht x: {width_x}, width y: {width_y}\")\n",
    "\n",
    "corners, deltas = get_square_corners(x_pose_1, x_pose_2, y_pose_1, width_x, width_y, tool_width)\n",
    "\n",
    "plt.scatter(poses[:, 0], poses[:, 1])\n",
    "plt.scatter(corners[:, 0], corners[:, 1])\n",
    "\n",
    "grid = calculate_grid_on_square(corners, 2)\n",
    "\n",
    "plt.scatter(grid[:, :, 0], grid[:, :, 1])\n",
    "plt.gca().set_aspect('equal')\n",
    "\n",
    "# Also save results to numpy file\n",
    "np.save(\"calibration_data.npy\", {\n",
    "    \"corners\": corners,\n",
    "    \"poses\": poses,\n",
    "    \"top_point_z\": top_point_z,\n",
    "})"
   ]
  },
  {
   "cell_type": "code",
   "execution_count": 7,
   "metadata": {},
   "outputs": [
    {
     "name": "stdout",
     "output_type": "stream",
     "text": [
      "[array([[ 0.3439858 , -0.05654299],\n",
      "       [ 0.33743085, -0.05687371]]), array([[ 0.34431843, -0.06306003],\n",
      "       [ 0.33776349, -0.06339075]])]\n",
      "[array([[ 0.3439858 , -0.05654299],\n",
      "       [ 0.34431843, -0.06306003]]), array([[ 0.33743085, -0.05687371],\n",
      "       [ 0.33776349, -0.06339075]])]\n"
     ]
    }
   ],
   "source": [
    "print([row for row in grid])\n",
    "print([row for row in grid.transpose((1,0,2))])"
   ]
  },
  {
   "cell_type": "code",
   "execution_count": 8,
   "metadata": {},
   "outputs": [],
   "source": [
    "\n",
    "rtde_c.zeroFtSensor()\n",
    "\n",
    "name = \"2x2_grid_normal\"\n",
    "measuring_interface.start_measuring(name)\n",
    "\n",
    "time.sleep(3)\n",
    "\n",
    "grid = calculate_grid_on_square(corners, 2)\n",
    "\n",
    "# Now push on every point in the grid to calibrate\n",
    "z_clearance = 0.005\n",
    "task_frame = [0, 0, 0, 0, 0, 0]\n",
    "selection_vector = [0, 0, 1, 0, 0, 0]\n",
    "wrench = [0, 0, -5, 0, 0, 0]\n",
    "force_type = 2\n",
    "limits = [0.1, 0.1, 0.01, 0.1, 0.1, 0.1]\n",
    "\n",
    "normal_forces = -1 * np.arange(0, 10, 1)\n",
    "\n",
    "controller.move_absolute(start_point[0:3])\n",
    "\n",
    "for row in grid:\n",
    "    for point in row:\n",
    "        \n",
    "        # Move above point\n",
    "        controller.move_absolute([point[0], point[1], top_point_z + z_clearance])\n",
    "        controller.move_absolute([point[0], point[1], top_point_z], velocity=0.01)\n",
    "        \n",
    "        # Now apply normal forces\n",
    "        for force in normal_forces:\n",
    "            wrench[2] = force\n",
    "            rtde_c.forceMode(task_frame, selection_vector, wrench, force_type, limits)\n",
    "            time.sleep(0.5)\n",
    "            \n",
    "        controller.move_absolute([point[0], point[1], top_point_z + z_clearance], velocity=0.01)\n",
    "        \n",
    "\n",
    "rtde_c.forceModeStop()\n",
    "controller.move_absolute(start_point[0:3])\n",
    "\n",
    "time.sleep(3)\n",
    "measuring_interface.stop_measuring()"
   ]
  },
  {
   "cell_type": "code",
   "execution_count": 13,
   "metadata": {},
   "outputs": [
    {
     "ename": "KeyboardInterrupt",
     "evalue": "",
     "output_type": "error",
     "traceback": [
      "\u001b[0;31m---------------------------------------------------------------------------\u001b[0m",
      "\u001b[0;31mKeyboardInterrupt\u001b[0m                         Traceback (most recent call last)",
      "Cell \u001b[0;32mIn [13], line 54\u001b[0m\n\u001b[1;32m     52\u001b[0m distance \u001b[38;5;241m=\u001b[39m \u001b[38;5;241m9999\u001b[39m\n\u001b[1;32m     53\u001b[0m \u001b[38;5;28;01mwhile\u001b[39;00m distance \u001b[38;5;241m>\u001b[39m \u001b[38;5;241m0.001\u001b[39m:\n\u001b[0;32m---> 54\u001b[0m     distance \u001b[38;5;241m=\u001b[39m np\u001b[38;5;241m.\u001b[39mlinalg\u001b[38;5;241m.\u001b[39mnorm(np\u001b[38;5;241m.\u001b[39marray(rtde_r\u001b[38;5;241m.\u001b[39mgetActualTCPPose()[\u001b[38;5;241m0\u001b[39m:\u001b[38;5;241m2\u001b[39m]) \u001b[38;5;241m-\u001b[39m np\u001b[38;5;241m.\u001b[39marray(next_point))\n\u001b[1;32m     56\u001b[0m \u001b[38;5;66;03m# Move back to safety        \u001b[39;00m\n\u001b[1;32m     57\u001b[0m controller\u001b[38;5;241m.\u001b[39mmove_relative([\u001b[38;5;241m0\u001b[39m, \u001b[38;5;241m0\u001b[39m, z_clearance])\n",
      "File \u001b[0;32m~/.local/lib/python3.10/site-packages/numpy/linalg/linalg.py:2536\u001b[0m, in \u001b[0;36mnorm\u001b[0;34m(x, ord, axis, keepdims)\u001b[0m\n\u001b[1;32m   2385\u001b[0m \u001b[38;5;250m\u001b[39m\u001b[38;5;124;03m\"\"\"\u001b[39;00m\n\u001b[1;32m   2386\u001b[0m \u001b[38;5;124;03mMatrix or vector norm.\u001b[39;00m\n\u001b[1;32m   2387\u001b[0m \n\u001b[0;32m   (...)\u001b[0m\n\u001b[1;32m   2532\u001b[0m \n\u001b[1;32m   2533\u001b[0m \u001b[38;5;124;03m\"\"\"\u001b[39;00m\n\u001b[1;32m   2534\u001b[0m x \u001b[38;5;241m=\u001b[39m asarray(x)\n\u001b[0;32m-> 2536\u001b[0m \u001b[38;5;28;01mif\u001b[39;00m \u001b[38;5;129;01mnot\u001b[39;00m \u001b[38;5;28;43missubclass\u001b[39;49m\u001b[43m(\u001b[49m\u001b[43mx\u001b[49m\u001b[38;5;241;43m.\u001b[39;49m\u001b[43mdtype\u001b[49m\u001b[38;5;241;43m.\u001b[39;49m\u001b[43mtype\u001b[49m\u001b[43m,\u001b[49m\u001b[43m \u001b[49m\u001b[43m(\u001b[49m\u001b[43minexact\u001b[49m\u001b[43m,\u001b[49m\u001b[43m \u001b[49m\u001b[43mobject_\u001b[49m\u001b[43m)\u001b[49m\u001b[43m)\u001b[49m:\n\u001b[1;32m   2537\u001b[0m     x \u001b[38;5;241m=\u001b[39m x\u001b[38;5;241m.\u001b[39mastype(\u001b[38;5;28mfloat\u001b[39m)\n\u001b[1;32m   2539\u001b[0m \u001b[38;5;66;03m# Immediately handle some default, simple, fast, and common cases.\u001b[39;00m\n",
      "\u001b[0;31mKeyboardInterrupt\u001b[0m: "
     ]
    }
   ],
   "source": [
    "# XY measurements (by slipping the probe)\n",
    "\n",
    "rtde_c.zeroFtSensor()\n",
    "\n",
    "name = \"2x2_grid_xy\"\n",
    "measuring_interface.start_measuring(name)\n",
    "\n",
    "time.sleep(3)\n",
    "\n",
    "grid = calculate_grid_on_square(corners, 2)\n",
    "\n",
    "# Now push on every point in the grid to calibrate\n",
    "z_clearance = 0.005\n",
    "task_frame = [0, 0, 0, 0, 0, 0]\n",
    "selection_vector = [0, 0, 1, 0, 0, 0]\n",
    "wrench = [0, 0, -5, 0, 0, 0]\n",
    "force_type = 2\n",
    "limits = [0.1, 0.1, 0.01, 0.1, 0.1, 0.1]\n",
    "\n",
    "# (normal force, side force)\n",
    "forces = np.array([[1, 1], [1, 2], [1, 5], [1, 10], \n",
    "                           [2, 2], [2, 5], [2, 10],\n",
    "                                   [5, 5], [5, 10],\n",
    "                                           [10, 10]\n",
    "                ])\n",
    "\n",
    "controller.move_absolute(start_point[0:3])\n",
    "\n",
    "for force in forces:\n",
    "    \n",
    "    normal_force, side_force = force\n",
    "                    \n",
    "    for reversed in [False, True]:\n",
    "\n",
    "        selection_vector = [1, 0, 1, 0, 0, 0]\n",
    "        limits = [0.005, 0.1, 0.01, 0.1, 0.1, 0.1]\n",
    "        wrench = [abs(side_force) if reversed else -abs(side_force), 0, -normal_force, 0, 0, 0] \n",
    "        for row in grid:\n",
    "            \n",
    "            # Start from first point in grid (which is always most +x)\n",
    "            point = row[-1 if reversed else 0]\n",
    "            \n",
    "            # Move to start point\n",
    "            controller.move_absolute([point[0], point[1], top_point_z + z_clearance])\n",
    "            controller.move_absolute([point[0], point[1], top_point_z], velocity=0.01)\n",
    "            \n",
    "            # Apply force until meeting next point\n",
    "            next_point = row[0 if reversed else -1]\n",
    "            rtde_c.forceMode(task_frame, selection_vector, wrench, force_type, limits)\n",
    "            \n",
    "            # Move to last point in row\n",
    "            distance = 9999\n",
    "            while distance > 0.001:\n",
    "                distance = np.linalg.norm(np.array(rtde_r.getActualTCPPose()[0:2]) - np.array(next_point))\n",
    "            \n",
    "            # Move back to safety        \n",
    "            controller.move_relative([0, 0, z_clearance], velocity=0.01)\n",
    "            \n",
    "        # Do the same with columns\n",
    "        selection_vector = [0, 1, 1, 0, 0, 0]\n",
    "        limits = [0.1, 0.005, 0.01, 0.1, 0.1, 0.1]\n",
    "        wrench = [0, abs(side_force) if reversed else -abs(side_force), -normal_force, 0, 0, 0] \n",
    "        for col in grid.transpose((1,0,2)):\n",
    "            \n",
    "            # Start from first point in grid (which is always most +x)\n",
    "            point = col[-1 if reversed else 0]\n",
    "            \n",
    "            # Move to start point\n",
    "            controller.move_absolute([point[0], point[1], top_point_z + z_clearance])\n",
    "            controller.move_absolute([point[0], point[1], top_point_z], velocity=0.01)\n",
    "            \n",
    "            # Apply force\n",
    "            next_point = col[0 if reversed else -1]\n",
    "            rtde_c.forceMode(task_frame, selection_vector, wrench, force_type, limits)\n",
    "            \n",
    "            # Move to last point in column\n",
    "            distance = 9999\n",
    "            while distance > 0.001:\n",
    "                distance = np.linalg.norm(np.array(rtde_r.getActualTCPPose()[0:2]) - np.array(next_point))\n",
    "            \n",
    "            # Move back to safety        \n",
    "            controller.move_relative([0, 0, z_clearance], velocity=0.01)\n",
    "\n",
    "rtde_c.forceModeStop()\n",
    "controller.move_absolute(start_point[0:3])\n",
    "\n",
    "time.sleep(3)\n",
    "measuring_interface.stop_measuring()"
   ]
  },
  {
   "cell_type": "code",
   "execution_count": 14,
   "metadata": {},
   "outputs": [
    {
     "data": {
      "text/plain": [
       "[0.3404030246422786, -0.06116461233719473, -0.14457471884326506]"
      ]
     },
     "execution_count": 14,
     "metadata": {},
     "output_type": "execute_result"
    }
   ],
   "source": [
    "measuring_interface.stop_measuring()\n",
    "controller.move_absolute(start_point[0:3])"
   ]
  },
  {
   "cell_type": "code",
   "execution_count": 11,
   "metadata": {},
   "outputs": [],
   "source": [
    "rtde_c.stopScript()"
   ]
  },
  {
   "cell_type": "code",
   "execution_count": 12,
   "metadata": {},
   "outputs": [
    {
     "data": {
      "text/plain": [
       "[0.3403715188009066, -0.06109771305103859, -0.14460998593157465]"
      ]
     },
     "execution_count": 12,
     "metadata": {},
     "output_type": "execute_result"
    }
   ],
   "source": [
    "controller.move_absolute(start_point[0:3])"
   ]
  },
  {
   "cell_type": "code",
   "execution_count": null,
   "metadata": {},
   "outputs": [],
   "source": []
  }
 ],
 "metadata": {
  "kernelspec": {
   "display_name": "Python 3",
   "language": "python",
   "name": "python3"
  },
  "language_info": {
   "codemirror_mode": {
    "name": "ipython",
    "version": 3
   },
   "file_extension": ".py",
   "mimetype": "text/x-python",
   "name": "python",
   "nbconvert_exporter": "python",
   "pygments_lexer": "ipython3",
   "version": "3.10.12"
  }
 },
 "nbformat": 4,
 "nbformat_minor": 2
}
