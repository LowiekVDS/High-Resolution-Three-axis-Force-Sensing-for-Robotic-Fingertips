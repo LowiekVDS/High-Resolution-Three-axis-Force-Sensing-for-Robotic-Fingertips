{
 "cells": [
  {
   "cell_type": "code",
   "execution_count": 1,
   "metadata": {},
   "outputs": [],
   "source": [
    "%load_ext autoreload\n",
    "%autoreload 2"
   ]
  },
  {
   "cell_type": "code",
   "execution_count": 2,
   "metadata": {},
   "outputs": [],
   "source": [
    "import rtde_control, rtde_receive\n",
    "\n",
    "ROBOT_HOST = \"10.42.0.162\" # IP address of the robot\n",
    "\n",
    "rtde_r = rtde_receive.RTDEReceiveInterface(ROBOT_HOST)\n",
    "rtde_c = rtde_control.RTDEControlInterface(ROBOT_HOST)\n"
   ]
  },
  {
   "cell_type": "code",
   "execution_count": 3,
   "metadata": {},
   "outputs": [],
   "source": [
    "from tools.controller import *\n",
    "controller = CalibrationController(rtde_r, rtde_c)\n",
    "\n",
    "transform = np.array([[1, 0, 0],\n",
    "                      [0, 0, -1],\n",
    "                      [0, 1, 0]])\n",
    "controller.set_transform(transform)\n",
    "\n",
    "start_point = controller.get_sensor_pose()[0:3]"
   ]
  },
  {
   "cell_type": "code",
   "execution_count": 4,
   "metadata": {},
   "outputs": [],
   "source": [
    "import time\n",
    "from tools.measuring import MeasuringInterface\n",
    "measuring_interface = MeasuringInterface(controller)"
   ]
  },
  {
   "cell_type": "code",
   "execution_count": 5,
   "metadata": {},
   "outputs": [
    {
     "name": "stdout",
     "output_type": "stream",
     "text": [
      "('stop',)\n"
     ]
    }
   ],
   "source": [
    "measuring_interface.start_measuring(\"tmp\")\n",
    "time.sleep(1)\n",
    "measuring_interface.stop_measuring()"
   ]
  },
  {
   "cell_type": "code",
   "execution_count": 6,
   "metadata": {},
   "outputs": [],
   "source": [
    "# Top point\n",
    "controller.move_absolute(start_point[0:3])\n",
    "top_point_z = controller.find_contact_point([0, 0, -1], 0.005)[2] \n",
    "controller.move_absolute(start_point[0:3])\n",
    "\n",
    "depth = top_point_z - start_point[2] - 0.008\n",
    "\n",
    "# Double X points\n",
    "controller.move_relative([0.02, 0.003, 0])\n",
    "controller.move_relative([0.0, 0, depth], 0.01)\n",
    "x_pose_1 = controller.find_contact_point([-1, 0, 0], 0.005)[0:2]\n",
    "controller.move_relative([0.005, 0, 0])\n",
    "\n",
    "controller.move_relative([0, -0.003 * 2, 0])\n",
    "x_pose_2 = controller.find_contact_point([-1, 0, 0], 0.005)[0:2]\n",
    "controller.move_relative([0.005, 0, -depth])\n",
    "controller.move_absolute(start_point[0:3])\n",
    "\n",
    "# Extra x point other side\n",
    "controller.move_absolute(start_point[0:3])\n",
    "controller.move_relative([-0.02, 0, 0])\n",
    "controller.move_relative([0.0, 0, depth], 0.01)\n",
    "x_pose_3 = controller.find_contact_point([1, 0, 0], 0.005)[0:2]\n",
    "controller.move_relative([-0.005, 0, -depth])\n",
    "controller.move_absolute(start_point[0:3])\n",
    "\n",
    "\n",
    "# Single Y point\n",
    "controller.move_relative([0, 0.02, 0])\n",
    "controller.move_relative([0.0, 0, depth], 0.01)\n",
    "y_pose_1 = controller.find_contact_point([0, -1, 0], 0.005)[0:2]\n",
    "controller.move_relative([0, 0.005, -depth])\n",
    "controller.move_absolute(start_point[0:3])\n",
    "\n",
    "poses = np.array([x_pose_1, x_pose_2, x_pose_3, y_pose_1])"
   ]
  },
  {
   "cell_type": "code",
   "execution_count": 7,
   "metadata": {},
   "outputs": [],
   "source": [
    "# Save poses to array\n",
    "np.save(\"poses_0803_v1.npy\", poses)"
   ]
  },
  {
   "cell_type": "code",
   "execution_count": 21,
   "metadata": {},
   "outputs": [
    {
     "name": "stdout",
     "output_type": "stream",
     "text": [
      "Width x: 0.023806361880780322, width y: 0\n"
     ]
    },
    {
     "data": {
      "image/png": "[encoded data removed]",
      "text/plain": [
       "<Figure size 640x480 with 1 Axes>"
      ]
     },
     "metadata": {},
     "output_type": "display_data"
    }
   ],
   "source": [
    "from tools.helpers import *\n",
    "import matplotlib.pyplot as plt\n",
    "\n",
    "tool_width = 0.003 / 2 # We want radius\n",
    "pitch = 0.0065\n",
    "# 7mm for my design, 6mm for remko design\n",
    "offset = (0.0055 + pitch / 2, 0.006 + pitch / 2) # Offset should be the position of the first sensor, NOT the corner of the silicon\n",
    "sensor_grid_size = (2, 2)\n",
    "nr_of_subpoints = 0\n",
    "\n",
    "grid_size = (sensor_grid_size[0] + (sensor_grid_size[0] - 1) * nr_of_subpoints, sensor_grid_size[1] + (sensor_grid_size[1] - 1) * nr_of_subpoints )\n",
    "\n",
    "width_x = np.linalg.norm(np.array(x_pose_1) - np.array(x_pose_3)) - 2 * tool_width\n",
    "# width_y = np.linalg.norm(np.array(y_pose_1) - np.array(y_pose_2)) - 2 * tool_width\n",
    "\n",
    "print(f\"Width x: {width_x}, width y: {0}\")\n",
    "\n",
    "corners, deltas = get_square_corners(x_pose_1, x_pose_2, y_pose_1, width_x, width_x, tool_width)\n",
    "\n",
    "# Corners index 0 and 3 are the bottom points\n",
    "# So now we need to calculate the grid based on those\n",
    "\n",
    "plt.scatter(poses[:, 0], poses[:, 1], c='black')\n",
    "plt.scatter(corners[:, 0], corners[:, 1], c='blue')\n",
    "\n",
    "grid = calculate_grid_on_square(corners, offset, grid_size, pitch / (nr_of_subpoints + 1))\n",
    "\n",
    "plt.scatter(grid[:, :, 0], grid[:, :, 1], c='red')\n",
    "plt.gca().set_aspect('equal')\n",
    "plt.gca().invert_yaxis()"
   ]
  },
  {
   "cell_type": "code",
   "execution_count": 13,
   "metadata": {},
   "outputs": [
    {
     "data": {
      "text/plain": [
       "[0.4315559148646507,\n",
       " 0.03224548346961065,\n",
       " -0.022737675143426325,\n",
       " -2.2213292962750364,\n",
       " -2.216330270903548,\n",
       " 0.0022680796694424174]"
      ]
     },
     "execution_count": 13,
     "metadata": {},
     "output_type": "execute_result"
    }
   ],
   "source": [
    "# Check if ok\n",
    "z_clearance = 0.0005\n",
    "duration = 5\n",
    "\n",
    "controller.move_absolute(start_point[0:3])\n",
    "\n",
    "for row in grid:\n",
    "    for point in row:\n",
    "        \n",
    "        # Move above point\n",
    "        controller.move_absolute([point[0], point[1], top_point_z + z_clearance])\n",
    "        time.sleep(duration / (grid_size[0] * grid_size[1]))\n",
    "  \n",
    "controller.move_absolute(start_point[0:3])"
   ]
  },
  {
   "cell_type": "code",
   "execution_count": 42,
   "metadata": {},
   "outputs": [
    {
     "name": "stderr",
     "output_type": "stream",
     "text": [
      "Exception in thread Thread-21 (read_and_publish_sensor_sync):\n",
      "Traceback (most recent call last):\n",
      "  File \"/usr/lib/python3.10/threading.py\", line 1016, in _bootstrap_inner\n",
      "    self.run()\n",
      "  File \"/usr/lib/python3.10/threading.py\", line 953, in run\n",
      "    self._target(*self._args, **self._kwargs)\n",
      "  File \"/home/lowiek/masters-thesis/notebooks/tools/sensor_reader.py\", line 68, in read_and_publish_sensor_sync\n",
      "    data = ser.read(1)\n",
      "  File \"/home/lowiek/.local/lib/python3.10/site-packages/serial/serialposix.py\", line 595, in read\n",
      "    raise SerialException(\n",
      "serial.serialutil.SerialException: device reports readiness to read but returned no data (device disconnected or multiple access on port?)\n"
     ]
    },
    {
     "ename": "KeyboardInterrupt",
     "evalue": "",
     "output_type": "error",
     "traceback": [
      "\u001b[0;31m---------------------------------------------------------------------------\u001b[0m",
      "\u001b[0;31mKeyboardInterrupt\u001b[0m                         Traceback (most recent call last)",
      "Cell \u001b[0;32mIn [42], line 27\u001b[0m\n\u001b[1;32m     25\u001b[0m     \u001b[38;5;28;01mfor\u001b[39;00m force \u001b[38;5;129;01min\u001b[39;00m normal_forces:\n\u001b[1;32m     26\u001b[0m         controller\u001b[38;5;241m.\u001b[39mforce_mode([\u001b[38;5;241m0\u001b[39m, \u001b[38;5;241m0\u001b[39m, \u001b[38;5;241m1\u001b[39m], [\u001b[38;5;241m0\u001b[39m, \u001b[38;5;241m0\u001b[39m, force], limits)\n\u001b[0;32m---> 27\u001b[0m         time\u001b[38;5;241m.\u001b[39msleep(\u001b[38;5;241m0.5\u001b[39m)\n\u001b[1;32m     29\u001b[0m     controller\u001b[38;5;241m.\u001b[39mmove_absolute([point[\u001b[38;5;241m0\u001b[39m], point[\u001b[38;5;241m1\u001b[39m], top_point_z \u001b[38;5;241m+\u001b[39m z_clearance], velocity\u001b[38;5;241m=\u001b[39m\u001b[38;5;241m0.01\u001b[39m)\n\u001b[1;32m     32\u001b[0m rtde_c\u001b[38;5;241m.\u001b[39mforceModeStop()\n",
      "\u001b[0;31mKeyboardInterrupt\u001b[0m: "
     ]
    }
   ],
   "source": [
    "import time\n",
    "\n",
    "rtde_c.zeroFtSensor()\n",
    "name = \"2x2_grid_subsampling_validatie_3_20032024\"\n",
    "measuring_interface.start_measuring(name)\n",
    "\n",
    "time.sleep(3)\n",
    "\n",
    "# Now push on every point in the grid to calibrate\n",
    "z_clearance = 0.005\n",
    "limits = [0.1, 0.1, 0.1]\n",
    "\n",
    "normal_forces = -1 * np.arange(0, 10, 1)\n",
    "\n",
    "controller.move_absolute(start_point[0:3])\n",
    "\n",
    "# for row in grid_int:\n",
    "for point in grid_int:\n",
    "    \n",
    "    # Move above point\n",
    "    controller.move_absolute([point[0], point[1], top_point_z + z_clearance])\n",
    "    controller.move_absolute([point[0], point[1], top_point_z], velocity=0.01)\n",
    "    \n",
    "    # Now apply normal forces\n",
    "    for force in normal_forces:\n",
    "        controller.force_mode([0, 0, 1], [0, 0, force], limits)\n",
    "        time.sleep(0.5)\n",
    "        \n",
    "    controller.move_absolute([point[0], point[1], top_point_z + z_clearance], velocity=0.01)\n",
    "        \n",
    "\n",
    "rtde_c.forceModeStop()\n",
    "controller.move_absolute(start_point[0:3])\n",
    "\n",
    "time.sleep(3)\n",
    "measuring_interface.stop_measuring()"
   ]
  },
  {
   "cell_type": "code",
   "execution_count": 20,
   "metadata": {},
   "outputs": [
    {
     "name": "stdout",
     "output_type": "stream",
     "text": [
      "('stop',)\n"
     ]
    }
   ],
   "source": [
    "# XY measurements (by slipping the probe)\n",
    "\n",
    "rtde_c.zeroFtSensor()\n",
    "\n",
    "name = \"2x2_grid_xy_subsampling_x2_20032024\"\n",
    "measuring_interface.start_measuring(name)\n",
    "\n",
    "time.sleep(3)\n",
    "\n",
    "# Now push on every point in the grid to calibrate\n",
    "z_clearance = 0.005\n",
    "limits = [0.01, 0.01, 0.01]\n",
    "\n",
    "# (normal force, side force)\n",
    "forces = np.array([[5, 10]])\n",
    "\n",
    "controller.move_absolute(start_point[0:3])\n",
    "\n",
    "for force in forces:\n",
    "    \n",
    "    normal_force, side_force = force\n",
    "                    \n",
    "    for reversed in [False, True]:\n",
    "\n",
    "        selection_vector = [1, 0, 1]\n",
    "        wrench = [-abs(side_force) if reversed else abs(side_force), 0, -normal_force] \n",
    "        for row in grid:\n",
    "            \n",
    "            # Start from first point in grid (which is always most +x)\n",
    "            point = row[-1 if reversed else 0]\n",
    "            \n",
    "            # Move to start point\n",
    "            controller.move_absolute([point[0], point[1], top_point_z + z_clearance])\n",
    "            controller.move_absolute([point[0], point[1], top_point_z], velocity=0.01)\n",
    "            \n",
    "            time.sleep(0.5)\n",
    "            \n",
    "            # Apply force until meeting next point\n",
    "            next_point = row[0 if reversed else -1]\n",
    "            controller.force_mode(selection_vector, wrench, limits)\n",
    "            \n",
    "            # Move to last point in row\n",
    "            distance = 9999\n",
    "            while distance > 0.0005:\n",
    "                distance = np.linalg.norm(np.array(controller.get_sensor_pose()[0:2]) - np.array(next_point))\n",
    "            rtde_c.forceModeStop()\n",
    "            \n",
    "            time.sleep(0.5)\n",
    "            \n",
    "            # Move back to safety        \n",
    "            controller.move_relative([0, 0, z_clearance], velocity=0.01)\n",
    "            \n",
    "        # Do the same with columns\n",
    "        selection_vector = [0, 1, 1]\n",
    "        wrench = [0, abs(side_force) if reversed else -abs(side_force), -normal_force] \n",
    "        for col in grid.transpose((1,0,2)):\n",
    "            \n",
    "            # Start from first point in grid (which is always most +x)\n",
    "            point = col[-1 if reversed else 0]\n",
    "            \n",
    "            # Move to start point\n",
    "            controller.move_absolute([point[0], point[1], top_point_z + z_clearance])\n",
    "            controller.move_absolute([point[0], point[1], top_point_z], velocity=0.01)\n",
    "            \n",
    "            time.sleep(0.5)\n",
    "            \n",
    "            # Apply force\n",
    "            next_point = col[0 if reversed else -1]\n",
    "            controller.force_mode(selection_vector, wrench, limits)\n",
    "            \n",
    "            # Move to last point in column\n",
    "            distance = 9999\n",
    "            while distance > 0.0005:\n",
    "                distance = np.linalg.norm(np.array(controller.get_sensor_pose()[0:2]) - np.array(next_point))\n",
    "            rtde_c.forceModeStop()\n",
    "            \n",
    "            time.sleep(0.5)\n",
    "            \n",
    "            # Move back to safety        \n",
    "            controller.move_relative([0, 0, z_clearance], velocity=0.01)\n",
    "\n",
    "rtde_c.forceModeStop()\n",
    "controller.move_absolute(start_point[0:3])\n",
    "\n",
    "time.sleep(3)\n",
    "measuring_interface.stop_measuring()"
   ]
  },
  {
   "cell_type": "code",
   "execution_count": 43,
   "metadata": {},
   "outputs": [
    {
     "data": {
      "text/plain": [
       "[0.43149640763831587,\n",
       " 0.03218160196328276,\n",
       " -0.022810434274951642,\n",
       " -2.220630745169333,\n",
       " -2.2075193369558272,\n",
       " 0.0046275311844855066]"
      ]
     },
     "execution_count": 43,
     "metadata": {},
     "output_type": "execute_result"
    },
    {
     "name": "stderr",
     "output_type": "stream",
     "text": [
      "Exception in thread Thread-23 (read_and_publish_sensor_sync):\n",
      "Traceback (most recent call last):\n",
      "  File \"/usr/lib/python3.10/threading.py\", line 1016, in _bootstrap_inner\n",
      "    self.run()\n",
      "  File \"/usr/lib/python3.10/threading.py\", line 953, in run\n",
      "    self._target(*self._args, **self._kwargs)\n",
      "  File \"/home/lowiek/masters-thesis/notebooks/tools/sensor_reader.py\", line 70, in read_and_publish_sensor_sync\n",
      "    data_bytes = ser.read(6 * 4)\n",
      "  File \"/home/lowiek/.local/lib/python3.10/site-packages/serial/serialposix.py\", line 595, in read\n",
      "    raise SerialException(\n",
      "serial.serialutil.SerialException: device reports readiness to read but returned no data (device disconnected or multiple access on port?)\n",
      "RTDEControlInterface: Could not receive data from robot...\n",
      "RTDEControlInterface Exception: Operation canceled\n",
      "RTDEControlInterface: Robot is disconnected, reconnecting...\n",
      "RTDEReceiveInterface Exception: Operation canceled\n"
     ]
    },
    {
     "name": "stdout",
     "output_type": "stream",
     "text": [
      "Reconnecting...\n",
      "Dashboard client deadline expired\n"
     ]
    },
    {
     "name": "stderr",
     "output_type": "stream",
     "text": [
      "RTDEControlInterface Exception: Timeout connecting to UR dashboard server.\n"
     ]
    }
   ],
   "source": [
    "controller.move_absolute(start_point[0:3])"
   ]
  },
  {
   "cell_type": "code",
   "execution_count": 13,
   "metadata": {},
   "outputs": [],
   "source": [
    "\n",
    "measuring_interface.stop_measuring()\n",
    "rtde_c.stopScript()"
   ]
  },
  {
   "cell_type": "code",
   "execution_count": 30,
   "metadata": {},
   "outputs": [],
   "source": [
    "def generate_random_points_between_four_points(grid, num_points):\n",
    "    # Extract the corner points\n",
    "    p1, p2, p3, p4 = grid.reshape(4, 2)\n",
    "\n",
    "    # Generate random weights for interpolation\n",
    "    weights = np.random.rand(num_points, 2)\n",
    "\n",
    "    # Interpolate between the four points\n",
    "    interpolated_points = (1 - weights[:, 0, np.newaxis]) * (1 - weights[:, 1, np.newaxis]) * p1 \\\n",
    "                        + weights[:, 0, np.newaxis] * (1 - weights[:, 1, np.newaxis]) * p2 \\\n",
    "                        + (1 - weights[:, 0, np.newaxis]) * weights[:, 1, np.newaxis] * p3 \\\n",
    "                        + weights[:, 0, np.newaxis] * weights[:, 1, np.newaxis] * p4\n",
    "\n",
    "    return interpolated_points"
   ]
  },
  {
   "cell_type": "code",
   "execution_count": 38,
   "metadata": {},
   "outputs": [
    {
     "name": "stdout",
     "output_type": "stream",
     "text": [
      "(2, 2, 2)\n",
      "(20, 2)\n"
     ]
    },
    {
     "data": {
      "image/png": "[encoded data removed]",
      "text/plain": [
       "<Figure size 640x480 with 1 Axes>"
      ]
     },
     "metadata": {},
     "output_type": "display_data"
    }
   ],
   "source": [
    "print(grid.shape)\n",
    "grid_int = generate_random_points_between_four_points(grid, 20)\n",
    "\n",
    "print(grid_int.shape)\n",
    "\n",
    "plt.scatter(grid_int[:, 0], grid_int[:, 1])\n",
    "plt.gca().set_aspect('equal')"
   ]
  },
  {
   "cell_type": "code",
   "execution_count": 39,
   "metadata": {},
   "outputs": [
    {
     "name": "stdout",
     "output_type": "stream",
     "text": [
      "[0.43318225 0.03240746]\n",
      "[0.43496153 0.03559281]\n",
      "[0.43618578 0.03616954]\n",
      "[0.43329627 0.03359735]\n",
      "[0.43587597 0.03455402]\n",
      "[0.43369799 0.03446218]\n",
      "[0.43318559 0.03280387]\n",
      "[0.43085515 0.03091459]\n",
      "[0.43175131 0.03366866]\n",
      "[0.43648093 0.03271723]\n",
      "[0.43570472 0.03630204]\n",
      "[0.43395545 0.03299308]\n",
      "[0.43221875 0.03651687]\n",
      "[0.43211774 0.03238319]\n",
      "[0.43117265 0.03469413]\n",
      "[0.4368371  0.03209211]\n",
      "[0.43631748 0.03463875]\n",
      "[0.43152121 0.03607402]\n",
      "[0.43203171 0.03460214]\n",
      "[0.4346921  0.03105192]\n"
     ]
    }
   ],
   "source": [
    "for point in grid_int:\n",
    "  print(point)"
   ]
  },
  {
   "cell_type": "code",
   "execution_count": null,
   "metadata": {},
   "outputs": [],
   "source": []
  }
 ],
 "metadata": {
  "kernelspec": {
   "display_name": "Python 3",
   "language": "python",
   "name": "python3"
  },
  "language_info": {
   "codemirror_mode": {
    "name": "ipython",
    "version": 3
   },
   "file_extension": ".py",
   "mimetype": "text/x-python",
   "name": "python",
   "nbconvert_exporter": "python",
   "pygments_lexer": "ipython3",
   "version": "3.10.12"
  }
 },
 "nbformat": 4,
 "nbformat_minor": 2
}
