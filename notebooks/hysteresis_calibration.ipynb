{
 "cells": [
  {
   "cell_type": "code",
   "execution_count": 1,
   "metadata": {},
   "outputs": [],
   "source": [
    "%load_ext autoreload\n",
    "%autoreload 2"
   ]
  },
  {
   "cell_type": "code",
   "execution_count": 2,
   "metadata": {},
   "outputs": [],
   "source": [
    "import rtde_control, rtde_receive\n",
    "\n",
    "ROBOT_HOST = \"10.42.0.162\" # IP address of the robot\n",
    "\n",
    "rtde_r = rtde_receive.RTDEReceiveInterface(ROBOT_HOST)\n",
    "rtde_c = rtde_control.RTDEControlInterface(ROBOT_HOST)"
   ]
  },
  {
   "cell_type": "code",
   "execution_count": 3,
   "metadata": {},
   "outputs": [],
   "source": [
    "from tools.controller import *\n",
    "controller = CalibrationController(rtde_r, rtde_c)\n",
    "\n",
    "transform = np.array([[1, 0, 0],\n",
    "                      [0, 0, -1],\n",
    "                      [0, 1, 0]])\n",
    "controller.set_transform(transform)\n",
    "\n",
    "start_point = controller.get_sensor_pose()[0:3]"
   ]
  },
  {
   "cell_type": "code",
   "execution_count": 4,
   "metadata": {},
   "outputs": [],
   "source": [
    "import time\n",
    "from tools.measuring import MeasuringInterface\n",
    "measuring_interface = MeasuringInterface(controller)"
   ]
  },
  {
   "cell_type": "code",
   "execution_count": 5,
   "metadata": {},
   "outputs": [
    {
     "name": "stdout",
     "output_type": "stream",
     "text": [
      "('stop',)\n"
     ]
    }
   ],
   "source": [
    "measuring_interface.start_measuring(\"tmp\")\n",
    "time.sleep(1)\n",
    "measuring_interface.stop_measuring()"
   ]
  },
  {
   "cell_type": "code",
   "execution_count": 6,
   "metadata": {},
   "outputs": [],
   "source": [
    "# Top point\n",
    "controller.move_absolute(start_point[0:3])\n",
    "top_point_z = controller.find_contact_point([0, 0, -1], 0.005)[2] \n",
    "controller.move_absolute(start_point[0:3])\n",
    "\n",
    "depth = top_point_z - start_point[2] - 0.008\n",
    "\n",
    "# Double X points\n",
    "controller.move_relative([0.02, 0.003, 0])\n",
    "controller.move_relative([0.0, 0, depth], 0.01)\n",
    "x_pose_1 = controller.find_contact_point([-1, 0, 0], 0.005)[0:2]\n",
    "controller.move_relative([0.005, 0, 0])\n",
    "\n",
    "controller.move_relative([0, -0.003 * 2, 0])\n",
    "x_pose_2 = controller.find_contact_point([-1, 0, 0], 0.005)[0:2]\n",
    "controller.move_relative([0.005, 0, -depth])\n",
    "controller.move_absolute(start_point[0:3])\n",
    "\n",
    "# Extra x point other side\n",
    "controller.move_absolute(start_point[0:3])\n",
    "controller.move_relative([-0.02, 0, 0])\n",
    "controller.move_relative([0.0, 0, depth], 0.01)\n",
    "x_pose_3 = controller.find_contact_point([1, 0, 0], 0.005)[0:2]\n",
    "controller.move_relative([-0.005, 0, -depth])\n",
    "controller.move_absolute(start_point[0:3])\n",
    "\n",
    "\n",
    "# Single Y point\n",
    "controller.move_relative([0, 0.02, 0])\n",
    "controller.move_relative([0.0, 0, depth], 0.01)\n",
    "y_pose_1 = controller.find_contact_point([0, -1, 0], 0.005)[0:2]\n",
    "controller.move_relative([0, 0.005, -depth])\n",
    "controller.move_absolute(start_point[0:3])\n",
    "\n",
    "poses = np.array([x_pose_1, x_pose_2, x_pose_3, y_pose_1])"
   ]
  },
  {
   "cell_type": "code",
   "execution_count": 9,
   "metadata": {},
   "outputs": [
    {
     "name": "stdout",
     "output_type": "stream",
     "text": [
      "Width x: 0.023830653891511247, width y: 0\n"
     ]
    },
    {
     "data": {
      "image/png": "[encoded data removed]",
      "text/plain": [
       "<Figure size 640x480 with 1 Axes>"
      ]
     },
     "metadata": {},
     "output_type": "display_data"
    }
   ],
   "source": [
    "from tools.helpers import *\n",
    "import matplotlib.pyplot as plt\n",
    "\n",
    "tool_width = 0.003 / 2 # We want radius\n",
    "pitch = 0.0065\n",
    "# 7mm for my design, 6mm for remko design\n",
    "offset = (0.0055 + pitch / 2, 0.0063 + pitch / 2) # Offset should be the position of the first sensor, NOT the corner of the silicon\n",
    "sensor_grid_size = (2, 2)\n",
    "nr_of_subpoints = 0\n",
    "\n",
    "grid_size = (sensor_grid_size[0] + (sensor_grid_size[0] - 1) * nr_of_subpoints, sensor_grid_size[1] + (sensor_grid_size[1] - 1) * nr_of_subpoints )\n",
    "\n",
    "width_x = np.linalg.norm(np.array(x_pose_1) - np.array(x_pose_3)) - 2 * tool_width\n",
    "# width_y = np.linalg.norm(np.array(y_pose_1) - np.array(y_pose_2)) - 2 * tool_width\n",
    "\n",
    "print(f\"Width x: {width_x}, width y: {0}\")\n",
    "\n",
    "corners, deltas = get_square_corners(x_pose_1, x_pose_2, y_pose_1, width_x, width_x, tool_width)\n",
    "\n",
    "# Corners index 0 and 3 are the bottom points\n",
    "# So now we need to calculate the grid based on those\n",
    "\n",
    "plt.scatter(poses[:, 0], poses[:, 1], c='black')\n",
    "plt.scatter(corners[:, 0], corners[:, 1], c='blue')\n",
    "\n",
    "grid = calculate_grid_on_square(corners, offset, grid_size, pitch / (nr_of_subpoints + 1))\n",
    "\n",
    "plt.scatter(grid[:, :, 0], grid[:, :, 1], c='red')\n",
    "plt.gca().set_aspect('equal')\n",
    "plt.gca().invert_yaxis()"
   ]
  },
  {
   "cell_type": "code",
   "execution_count": 10,
   "metadata": {},
   "outputs": [
    {
     "data": {
      "text/plain": [
       "[0.43385575165020124,\n",
       " 0.03252519231639209,\n",
       " -0.022782823106422566,\n",
       " -2.2207482995892405,\n",
       " -2.220848187760619,\n",
       " 0.0009053847506799788]"
      ]
     },
     "execution_count": 10,
     "metadata": {},
     "output_type": "execute_result"
    }
   ],
   "source": [
    "# Check if ok\n",
    "z_clearance = 0.0005\n",
    "duration = 5\n",
    "\n",
    "controller.move_absolute(start_point[0:3])\n",
    "\n",
    "for row in grid:\n",
    "    for point in row:\n",
    "        \n",
    "        # Move above point\n",
    "        controller.move_absolute([point[0], point[1], top_point_z + z_clearance])\n",
    "        time.sleep(duration / (grid_size[0] * grid_size[1]))\n",
    "  \n",
    "controller.move_absolute(start_point[0:3])"
   ]
  },
  {
   "cell_type": "code",
   "execution_count": 11,
   "metadata": {},
   "outputs": [
    {
     "data": {
      "text/plain": [
       "[0.4338950579622137,\n",
       " 0.03253427595650593,\n",
       " -0.022738832748011004,\n",
       " -2.220873181136507,\n",
       " -2.2208564172950407,\n",
       " 0.0007656553271330885]"
      ]
     },
     "execution_count": 11,
     "metadata": {},
     "output_type": "execute_result"
    }
   ],
   "source": [
    "controller.move_absolute(start_point[0:3])"
   ]
  },
  {
   "cell_type": "code",
   "execution_count": 10,
   "metadata": {},
   "outputs": [
    {
     "name": "stdout",
     "output_type": "stream",
     "text": [
      "-0.026570768091110617 -0.033102287240166756 -0.031555566524305766\n"
     ]
    }
   ],
   "source": [
    "# Hysteresis curve calibration\n",
    "# First do a FT of 10N to fetch Z depth\n",
    "rtde_c.zeroFtSensor()\n",
    "\n",
    "z_clearance = 0.005\n",
    "point = grid[0][0]\n",
    "limits = [0.01, 0.01, 0.01]\n",
    "\n",
    "controller.move_absolute(start_point[0:3])\n",
    "controller.move_absolute([point[0], point[1], top_point_z + z_clearance], 0.01)\n",
    "\n",
    "z_top = controller.get_sensor_pose()[2]\n",
    "controller.force_mode([0, 0, 1], [0, 0, -10], limits)\n",
    "time.sleep(5)\n",
    "rtde_c.forceModeStop()\n",
    "z_10N = controller.get_sensor_pose()[2]\n",
    "controller.move_absolute(start_point[0:3])\n",
    "\n",
    "print(z_top, z_10N, top_point_z)"
   ]
  },
  {
   "cell_type": "code",
   "execution_count": 11,
   "metadata": {},
   "outputs": [
    {
     "ename": "KeyboardInterrupt",
     "evalue": "",
     "output_type": "error",
     "traceback": [
      "\u001b[0;31m---------------------------------------------------------------------------\u001b[0m",
      "\u001b[0;31mKeyboardInterrupt\u001b[0m                         Traceback (most recent call last)",
      "Cell \u001b[0;32mIn [11], line 7\u001b[0m\n\u001b[1;32m      4\u001b[0m name \u001b[38;5;241m=\u001b[39m \u001b[38;5;124m\"\u001b[39m\u001b[38;5;124m2x2_hystersis_taxel2_fast\u001b[39m\u001b[38;5;124m\"\u001b[39m\n\u001b[1;32m      5\u001b[0m measuring_interface\u001b[38;5;241m.\u001b[39mstart_measuring(name)\n\u001b[0;32m----> 7\u001b[0m time\u001b[38;5;241m.\u001b[39msleep(\u001b[38;5;241m3\u001b[39m)\n\u001b[1;32m      9\u001b[0m \u001b[38;5;66;03m# Now push on every point in the grid to calibrate\u001b[39;00m\n\u001b[1;32m     10\u001b[0m z_clearance \u001b[38;5;241m=\u001b[39m \u001b[38;5;241m0.005\u001b[39m\n",
      "\u001b[0;31mKeyboardInterrupt\u001b[0m: "
     ]
    }
   ],
   "source": [
    "import time\n",
    "\n",
    "rtde_c.zeroFtSensor()\n",
    "name = \"2x2_hystersis_taxel2_fast\"\n",
    "measuring_interface.start_measuring(name)\n",
    "\n",
    "time.sleep(3)\n",
    "\n",
    "# Now push on every point in the grid to calibrate\n",
    "z_clearance = 0.005\n",
    "\n",
    "controller.move_absolute(start_point[0:3])\n",
    "\n",
    "point = grid[0][0]\n",
    "        \n",
    "# Move above point\n",
    "controller.move_absolute([point[0], point[1], top_point_z + z_clearance])\n",
    "controller.move_absolute([point[0], point[1], top_point_z], velocity=0.01)\n",
    "\n",
    "# Now apply normal forces\n",
    "pose = controller.get_sensor_pose()\n",
    "x = pose[0]\n",
    "y = pose[1]\n",
    "\n",
    "measuring_interface.set_level(1)\n",
    "for z in np.linspace(top_point_z, z_10N, 5):\n",
    "    \n",
    "    controller.move_absolute([x, y, z], 0.005)\n",
    "    time.sleep(10)\n",
    "     \n",
    "    controller.move_absolute([point[0], point[1], top_point_z + 0.0005], 0.005)\n",
    "    time.sleep(10)\n",
    "\n",
    "measuring_interface.set_level(0)\n",
    "    \n",
    "    \n",
    "controller.move_absolute([point[0], point[1], top_point_z + z_clearance], velocity=0.01)\n",
    "        \n",
    "\n",
    "rtde_c.forceModeStop()\n",
    "controller.move_absolute(start_point[0:3])\n",
    "\n",
    "time.sleep(3)\n",
    "measuring_interface.stop_measuring()"
   ]
  },
  {
   "cell_type": "code",
   "execution_count": null,
   "metadata": {},
   "outputs": [],
   "source": [
    "measuring_interface.start_measuring(\"tmp\")\n",
    "\n",
    "z_clearance = 0.005\n",
    "\n",
    "controller.move_absolute(start_point[0:3])\n",
    "\n",
    "point = grid[0][0]\n",
    "        \n",
    "# Move above point\n",
    "controller.move_absolute([point[0], point[1], top_point_z + z_clearance])\n",
    "controller.move_absolute([point[0], point[1], top_point_z], velocity=0.01)\n",
    "\n",
    "pose = controller.get_sensor_pose()\n",
    "x = pose[0]\n",
    "y = pose[1]\n",
    "\n",
    "# Apply 10N\n",
    "controller.move_absolute([x, y, z_10N], 0.005)\n",
    "time.sleep(10)\n",
    "\n",
    "\n",
    "# measuring_interface.set_level(1)\n",
    "# for z in np.linspace(top_point_z, z_10N, 5):\n",
    "    \n",
    "#     controller.move_absolute([x, y, z], 0.005)\n",
    "#     time.sleep(10)\n",
    "     \n",
    "#     controller.move_absolute([point[0], point[1], top_point_z + 0.0005], 0.005)\n",
    "#     time.sleep(10)"
   ]
  },
  {
   "cell_type": "code",
   "execution_count": null,
   "metadata": {},
   "outputs": [
    {
     "data": {
      "text/plain": [
       "True"
      ]
     },
     "execution_count": 33,
     "metadata": {},
     "output_type": "execute_result"
    }
   ],
   "source": [
    "controller.force_mode([1, 0, 0], [5, 0, 0], [0.001,0.001,0.001])\n",
    "time.sleep(5)\n",
    "rtde_c.forceModeStop()"
   ]
  },
  {
   "cell_type": "code",
   "execution_count": null,
   "metadata": {},
   "outputs": [
    {
     "data": {
      "text/plain": [
       "[0.4303163765246605,\n",
       " 0.037417994987682085,\n",
       " -0.03300208975701634,\n",
       " -2.2185129722806884,\n",
       " -2.2202623790316114,\n",
       " 0.003762959501641323]"
      ]
     },
     "execution_count": 18,
     "metadata": {},
     "output_type": "execute_result"
    }
   ],
   "source": [
    "\n",
    "# Move slightly to the left\n",
    "controller.move_relative([-3 * 0.0005, 0, 0])"
   ]
  },
  {
   "cell_type": "code",
   "execution_count": null,
   "metadata": {},
   "outputs": [
    {
     "name": "stdout",
     "output_type": "stream",
     "text": [
      "[0.4349977890841966, 0.037502292972230594, -0.03302614190380017, -2.2181242383643864, -2.221036082784437, 0.003744954388528253]\n"
     ]
    }
   ],
   "source": [
    "print(controller.get_sensor_pose())"
   ]
  },
  {
   "cell_type": "code",
   "execution_count": null,
   "metadata": {},
   "outputs": [
    {
     "name": "stdout",
     "output_type": "stream",
     "text": [
      "('stop',)\n"
     ]
    }
   ],
   "source": [
    "measuring_interface.stop_measuring()"
   ]
  },
  {
   "cell_type": "code",
   "execution_count": null,
   "metadata": {},
   "outputs": [
    {
     "name": "stdout",
     "output_type": "stream",
     "text": [
      "[0.43031178899892136, 0.03737193910651618, -0.023722302531940586]\n"
     ]
    }
   ],
   "source": [
    "controller.move_absolute(start_point[0:3])\n",
    "print(start_point[0:3])"
   ]
  },
  {
   "cell_type": "code",
   "execution_count": null,
   "metadata": {},
   "outputs": [],
   "source": []
  },
  {
   "cell_type": "code",
   "execution_count": null,
   "metadata": {},
   "outputs": [
    {
     "name": "stdout",
     "output_type": "stream",
     "text": [
      "-0.026189437081354613 -0.03212802288426314 -0.031167639911217633\n"
     ]
    }
   ],
   "source": []
  },
  {
   "cell_type": "code",
   "execution_count": null,
   "metadata": {},
   "outputs": [],
   "source": [
    "measuring_interface.start_measuring(\"tmp\")"
   ]
  },
  {
   "cell_type": "code",
   "execution_count": null,
   "metadata": {},
   "outputs": [
    {
     "name": "stdout",
     "output_type": "stream",
     "text": [
      "('stop',)\n"
     ]
    }
   ],
   "source": [
    "measuring_interface.stop_measuring()"
   ]
  },
  {
   "cell_type": "code",
   "execution_count": 15,
   "metadata": {},
   "outputs": [],
   "source": [
    "def calibrate_taxel(point):\n",
    "\n",
    "  z_clearance = 0.001\n",
    "  limits = [0.0005, 0.0005, 0.0005]\n",
    "\n",
    "  controller.move_absolute(start_point[0:3])\n",
    "          \n",
    "  # Move above point\n",
    "  controller.move_absolute([point[0], point[1], top_point_z + z_clearance])\n",
    "\n",
    "  time.sleep(1)\n",
    "  rtde_c.zeroFtSensor()\n",
    "  time.sleep(1)\n",
    "\n",
    "  #\n",
    "  # Now apply normal forces\n",
    "  #\n",
    "  measuring_interface.set_level(-3)\n",
    "  for f_n in [-10]:\n",
    "    \n",
    "      rtde_c.zeroFtSensor()\n",
    "      time.sleep(1)\n",
    "            \n",
    "      for i in range(1000):\n",
    "        if abs(controller.get_sensor_force()[2] - f_n) < 0.05:\n",
    "          rtde_c.forceModeStop()\n",
    "        else:\n",
    "          controller.force_mode([0, 0, 1], [0, 0, f_n], limits)\n",
    "        time.sleep(0.01)\n",
    "      \n",
    "      controller.move_absolute([point[0], point[1], top_point_z + z_clearance], 0.0005)\n",
    "      time.sleep(10)\n",
    "\n",
    "  measuring_interface.set_level(0)\n",
    "      \n",
    "  controller.move_absolute([point[0], point[1], top_point_z + z_clearance], velocity=0.01)\n",
    "  time.sleep(3)\n",
    "  \n",
    "  \n",
    "  \n",
    "  \n",
    "  \n",
    "  #\n",
    "  # Now try X and Y calibration by moving slightly left/right/up/down\n",
    "  # \n",
    "  \n",
    "  forces = np.array([[6, 10]]) # absolute values\n",
    "  \n",
    "  for force in forces:\n",
    "    \n",
    "    sf, nf = force\n",
    "\n",
    "    nf *= -1\n",
    "  \n",
    "    # Move to start\n",
    "    controller.move_absolute([point[0], point[1], top_point_z + z_clearance], velocity=0.01)\n",
    "    \n",
    "    time.sleep(1)\n",
    "    rtde_c.zeroFtSensor()\n",
    "    time.sleep(1)\n",
    "    \n",
    "    # Apply Z\n",
    "    measuring_interface.set_level(-3)\n",
    "    for i in range(500):\n",
    "      if abs(controller.get_sensor_force()[2] - nf) < 0.05:\n",
    "        rtde_c.forceModeStop()\n",
    "      else:\n",
    "        controller.force_mode([0, 0, 1], [0, 0, nf], limits)\n",
    "      time.sleep(0.01)\n",
    "    measuring_interface.set_level(0)\n",
    "    \n",
    "    # Start pose X\n",
    "    x_start_pose = controller.get_sensor_pose()[0:3]\n",
    "    \n",
    "    # Move in direction +X\n",
    "    measuring_interface.set_level(1)\n",
    "    for i in range(500):\n",
    "      if abs(controller.get_sensor_force()[0] - sf) < 0.05 or abs(controller.get_sensor_force()[2] - nf) < 0.05:\n",
    "        rtde_c.forceModeStop()\n",
    "      else:\n",
    "        controller.force_mode([1, 0, 1], [sf, 0, nf], limits)\n",
    "      time.sleep(0.01)\n",
    "    \n",
    "    # Move in direction -X\n",
    "    measuring_interface.set_level(-1)\n",
    "    sf *= -1\n",
    "    for i in range(500):\n",
    "      if abs(controller.get_sensor_force()[0] - sf) < 0.05 or abs(controller.get_sensor_force()[2] - nf) < 0.05:\n",
    "        rtde_c.forceModeStop()\n",
    "      else:\n",
    "        controller.force_mode([1, 0, 1], [sf, 0, nf], limits)\n",
    "      time.sleep(0.01)\n",
    "    sf *= -1\n",
    "    \n",
    "    # Move back to start pose and up\n",
    "    controller.move_absolute(x_start_pose, 0.0005)\n",
    "    time.sleep(5)\n",
    "    measuring_interface.set_level(-3)\n",
    "    controller.move_absolute([point[0], point[1], top_point_z + z_clearance], velocity=0.0005)\n",
    "    time.sleep(5)\n",
    "    measuring_interface.set_level(0)\n",
    "  \n",
    "  \n",
    "  \n",
    "  \n",
    "    \n",
    "    # Move to start\n",
    "    controller.move_absolute([point[0], point[1], top_point_z + z_clearance], velocity=0.01)\n",
    "    time.sleep(1)\n",
    "    rtde_c.zeroFtSensor()\n",
    "    time.sleep(1)\n",
    "    \n",
    "    # Apply Z\n",
    "    measuring_interface.set_level(-3)\n",
    "    for i in range(500):\n",
    "      if abs(controller.get_sensor_force()[2] - nf) < 0.05:\n",
    "        rtde_c.forceModeStop()\n",
    "      else:\n",
    "        controller.force_mode([0, 0, 1], [0, 0, nf], limits)\n",
    "      time.sleep(0.01)\n",
    "    \n",
    "    y_start_pose = controller.get_sensor_pose()[0:3]\n",
    "\n",
    "    # Move in direction +Y\n",
    "    measuring_interface.set_level(2)\n",
    "    \n",
    "    for i in range(500):\n",
    "      if abs(controller.get_sensor_force()[1] - sf) < 0.05 or abs(controller.get_sensor_force()[2] - nf) < 0.05:\n",
    "        rtde_c.forceModeStop()\n",
    "      else:\n",
    "        controller.force_mode([0, 1, 1], [0, sf, nf], limits)\n",
    "      time.sleep(0.01)\n",
    "    \n",
    "    # Move in direction -Y\n",
    "    sf *= -1\n",
    "    measuring_interface.set_level(-2)\n",
    "    for i in range(500):\n",
    "      if abs(controller.get_sensor_force()[1] - sf) < 0.05 or abs(controller.get_sensor_force()[2] - nf) < 0.05:\n",
    "        rtde_c.forceModeStop()\n",
    "      else:\n",
    "        controller.force_mode([0, 1, 1], [0, sf, nf], limits)\n",
    "      time.sleep(0.01)\n",
    "    sf *= -1\n",
    "    \n",
    "    # Move back to start pose and up\n",
    "    controller.move_absolute(y_start_pose, z_clearance)\n",
    "    time.sleep(5)\n",
    "    measuring_interface.set_level(-3)\n",
    "    controller.move_absolute([point[0], point[1], top_point_z + z_clearance], velocity=0.0005)\n",
    "    time.sleep(5)\n",
    "    measuring_interface.set_level(0)\n",
    "  "
   ]
  },
  {
   "cell_type": "code",
   "execution_count": 16,
   "metadata": {},
   "outputs": [
    {
     "name": "stdout",
     "output_type": "stream",
     "text": [
      "('set_level', -3)\n"
     ]
    },
    {
     "ename": "KeyboardInterrupt",
     "evalue": "",
     "output_type": "error",
     "traceback": [
      "\u001b[0;31m---------------------------------------------------------------------------\u001b[0m",
      "\u001b[0;31mKeyboardInterrupt\u001b[0m                         Traceback (most recent call last)",
      "Cell \u001b[0;32mIn [16], line 9\u001b[0m\n\u001b[1;32m      7\u001b[0m \u001b[38;5;28;01mfor\u001b[39;00m row \u001b[38;5;129;01min\u001b[39;00m grid:\n\u001b[1;32m      8\u001b[0m   \u001b[38;5;28;01mfor\u001b[39;00m point \u001b[38;5;129;01min\u001b[39;00m row:\n\u001b[0;32m----> 9\u001b[0m     calibrate_taxel(point)\n\u001b[1;32m     11\u001b[0m time\u001b[38;5;241m.\u001b[39msleep(\u001b[38;5;241m3\u001b[39m)\n\u001b[1;32m     12\u001b[0m measuring_interface\u001b[38;5;241m.\u001b[39mstop_measuring()\n",
      "Cell \u001b[0;32mIn [15], line 32\u001b[0m, in \u001b[0;36mcalibrate_taxel\u001b[0;34m(point)\u001b[0m\n\u001b[1;32m     29\u001b[0m       time\u001b[38;5;241m.\u001b[39msleep(\u001b[38;5;241m0.01\u001b[39m)\n\u001b[1;32m     31\u001b[0m     controller\u001b[38;5;241m.\u001b[39mmove_absolute([point[\u001b[38;5;241m0\u001b[39m], point[\u001b[38;5;241m1\u001b[39m], top_point_z \u001b[38;5;241m+\u001b[39m z_clearance], \u001b[38;5;241m0.0005\u001b[39m)\n\u001b[0;32m---> 32\u001b[0m     \u001b[43mtime\u001b[49m\u001b[38;5;241;43m.\u001b[39;49m\u001b[43msleep\u001b[49m\u001b[43m(\u001b[49m\u001b[38;5;241;43m10\u001b[39;49m\u001b[43m)\u001b[49m\n\u001b[1;32m     34\u001b[0m measuring_interface\u001b[38;5;241m.\u001b[39mset_level(\u001b[38;5;241m0\u001b[39m)\n\u001b[1;32m     36\u001b[0m controller\u001b[38;5;241m.\u001b[39mmove_absolute([point[\u001b[38;5;241m0\u001b[39m], point[\u001b[38;5;241m1\u001b[39m], top_point_z \u001b[38;5;241m+\u001b[39m z_clearance], velocity\u001b[38;5;241m=\u001b[39m\u001b[38;5;241m0.01\u001b[39m)\n",
      "\u001b[0;31mKeyboardInterrupt\u001b[0m: "
     ]
    }
   ],
   "source": [
    "controller.move_absolute(start_point[0:3])\n",
    "time.sleep(1)\n",
    "\n",
    "measuring_interface.start_measuring(\"2x2_grid_x1_20032024\")\n",
    "time.sleep(3)\n",
    "\n",
    "for row in grid:\n",
    "  for point in row:\n",
    "    calibrate_taxel(point)\n",
    "\n",
    "time.sleep(3)\n",
    "measuring_interface.stop_measuring()\n"
   ]
  },
  {
   "cell_type": "code",
   "execution_count": 14,
   "metadata": {},
   "outputs": [
    {
     "data": {
      "text/plain": [
       "[0.433874442242376,\n",
       " 0.032561600575080785,\n",
       " -0.022813654326840356,\n",
       " 2.259144588276083,\n",
       " 2.169823352923512,\n",
       " -0.06995485012024295]"
      ]
     },
     "execution_count": 14,
     "metadata": {},
     "output_type": "execute_result"
    }
   ],
   "source": [
    "measuring_interface.stop_measuring()\n",
    "controller.move_absolute(start_point[0:3])\n"
   ]
  },
  {
   "cell_type": "code",
   "execution_count": null,
   "metadata": {},
   "outputs": [],
   "source": []
  },
  {
   "cell_type": "code",
   "execution_count": 33,
   "metadata": {},
   "outputs": [
    {
     "data": {
      "text/plain": [
       "True"
      ]
     },
     "execution_count": 33,
     "metadata": {},
     "output_type": "execute_result"
    }
   ],
   "source": [
    "\n",
    "rtde_c.forceModeStop()"
   ]
  },
  {
   "cell_type": "code",
   "execution_count": null,
   "metadata": {},
   "outputs": [],
   "source": [
    "def generate_random_points_between_four_points(points, num_points):\n",
    "    # Get the corner points\n",
    "    p1, p2, p3, p4 = points\n",
    "\n",
    "    # Generate random weights for interpolation\n",
    "    weights = np.random.rand(num_points, 2)\n",
    "\n",
    "    # Normalize the weights to ensure they sum to 1\n",
    "    weights /= np.sum(weights, axis=1)[:, np.newaxis]\n",
    "\n",
    "    # Interpolate between the four points\n",
    "    interpolated_points = (1 - weights[:, 0]) * (1 - weights[:, 1]) * p1 \\\n",
    "                        + weights[:, 0] * (1 - weights[:, 1]) * p2 \\\n",
    "                        + (1 - weights[:, 0]) * weights[:, 1] * p3 \\\n",
    "                        + weights[:, 0] * weights[:, 1] * p4\n",
    "\n",
    "    return interpolated_points"
   ]
  },
  {
   "cell_type": "code",
   "execution_count": null,
   "metadata": {},
   "outputs": [],
   "source": [
    "# Random points and stuff for validation\n",
    "\n",
    "int_points = generate_random_points_between_four_points(grid, 10)\n",
    "\n",
    "tool_width = 0.003 / 2 # We want radius\n",
    "pitch = 0.0065\n",
    "# 7mm for my design, 6mm for remko design\n",
    "offset = (0.0055 + pitch / 2, 0.0063 + pitch / 2) # Offset should be the position of the first sensor, NOT the corner of the silicon\n",
    "sensor_grid_size = (2, 2)\n",
    "nr_of_subpoints = 0\n",
    "\n",
    "grid_size = (sensor_grid_size[0] + (sensor_grid_size[0] - 1) * nr_of_subpoints, sensor_grid_size[1] + (sensor_grid_size[1] - 1) * nr_of_subpoints )\n",
    "\n",
    "width_x = np.linalg.norm(np.array(x_pose_1) - np.array(x_pose_3)) - 2 * tool_width\n",
    "# width_y = np.linalg.norm(np.array(y_pose_1) - np.array(y_pose_2)) - 2 * tool_width\n",
    "\n",
    "print(f\"Width x: {width_x}, width y: {0}\")\n",
    "\n",
    "corners, deltas = get_square_corners(x_pose_1, x_pose_2, y_pose_1, width_x, width_x, tool_width)\n",
    "\n",
    "# Corners index 0 and 3 are the bottom points\n",
    "# So now we need to calculate the grid based on those\n",
    "\n",
    "plt.scatter(poses[:, 0], poses[:, 1], c='black')\n",
    "plt.scatter(corners[:, 0], corners[:, 1], c='blue')\n",
    "\n",
    "grid_sub = calculate_grid_on_square(corners, offset, grid_size, pitch / (nr_of_subpoints + 1))\n",
    "\n",
    "int_points = generate_random_points_between_four_points(grid, 10)\n",
    "\n",
    "plt.scatter(grid[:, :, 0], grid[:, :, 1], c='red')\n",
    "plt.scatter(int_points[:, :, 0], grid[:, :, 1], c='green')\n",
    "plt.gca().set_aspect('equal')\n",
    "plt.gca().invert_yaxis()\n"
   ]
  },
  {
   "cell_type": "code",
   "execution_count": 28,
   "metadata": {},
   "outputs": [
    {
     "name": "stdout",
     "output_type": "stream",
     "text": [
      "('set_level', 1)\n",
      "('set_level', 0)\n",
      "('set_level', 1)\n",
      "('set_level', 0)\n",
      "('set_level', 1)\n",
      "('set_level', 0)\n",
      "('set_level', 1)\n",
      "('set_level', 0)\n",
      "('set_level', 1)\n",
      "('set_level', 0)\n",
      "('set_level', 1)\n",
      "('set_level', 0)\n",
      "('set_level', 1)\n",
      "('set_level', 0)\n",
      "('set_level', 1)\n",
      "('set_level', 0)\n",
      "('set_level', 1)\n",
      "('set_level', 0)\n",
      "('set_level', 1)\n",
      "('set_level', 0)\n",
      "('set_level', 1)\n"
     ]
    },
    {
     "ename": "KeyboardInterrupt",
     "evalue": "",
     "output_type": "error",
     "traceback": [
      "\u001b[0;31m---------------------------------------------------------------------------\u001b[0m",
      "\u001b[0;31mKeyboardInterrupt\u001b[0m                         Traceback (most recent call last)",
      "Cell \u001b[0;32mIn [28], line 28\u001b[0m\n\u001b[1;32m     26\u001b[0m measuring_interface\u001b[38;5;241m.\u001b[39mset_level(\u001b[38;5;241m1\u001b[39m)\n\u001b[1;32m     27\u001b[0m controller\u001b[38;5;241m.\u001b[39mforce_mode([\u001b[38;5;241m0\u001b[39m, \u001b[38;5;241m0\u001b[39m, \u001b[38;5;241m1\u001b[39m], [\u001b[38;5;241m0\u001b[39m, \u001b[38;5;241m0\u001b[39m, force], limits)\n\u001b[0;32m---> 28\u001b[0m time\u001b[38;5;241m.\u001b[39msleep(\u001b[38;5;241m5\u001b[39m)\n\u001b[1;32m     29\u001b[0m measuring_interface\u001b[38;5;241m.\u001b[39mset_level(\u001b[38;5;241m0\u001b[39m)\n\u001b[1;32m     31\u001b[0m controller\u001b[38;5;241m.\u001b[39mmove_absolute([point[\u001b[38;5;241m0\u001b[39m], point[\u001b[38;5;241m1\u001b[39m], top_point_z \u001b[38;5;241m+\u001b[39m z_clearance])\n",
      "\u001b[0;31mKeyboardInterrupt\u001b[0m: "
     ]
    }
   ],
   "source": [
    "import time\n",
    "\n",
    "rtde_c.zeroFtSensor()\n",
    "name = \"2x2_hystersis\"\n",
    "measuring_interface.start_measuring(name)\n",
    "\n",
    "time.sleep(3)\n",
    "\n",
    "# Now push on every point in the grid to calibrate\n",
    "z_clearance = 0.005\n",
    "limits = [0.01, 0.01, 0.01]\n",
    "\n",
    "normal_forces = -1 * np.arange(0, 10, 1)\n",
    "\n",
    "controller.move_absolute(start_point[0:3])\n",
    "\n",
    "for row in grid:\n",
    "    for point in row:\n",
    "        \n",
    "        # Move above point\n",
    "        controller.move_absolute([point[0], point[1], top_point_z + z_clearance])\n",
    "        controller.move_absolute([point[0], point[1], top_point_z], velocity=0.01)\n",
    "        \n",
    "        # Now apply normal forces\n",
    "        for force in normal_forces:\n",
    "            measuring_interface.set_level(1)\n",
    "            controller.force_mode([0, 0, 1], [0, 0, force], limits)\n",
    "            time.sleep(5)\n",
    "            measuring_interface.set_level(0)\n",
    "            \n",
    "            controller.move_absolute([point[0], point[1], top_point_z + z_clearance])\n",
    "            time.sleep(10)\n",
    "            \n",
    "            \n",
    "            \n",
    "        controller.move_absolute([point[0], point[1], top_point_z + z_clearance], velocity=0.01)\n",
    "        \n",
    "\n",
    "rtde_c.forceModeStop()\n",
    "controller.move_absolute(start_point[0:3])\n",
    "\n",
    "time.sleep(3)\n",
    "measuring_interface.stop_measuring()"
   ]
  },
  {
   "cell_type": "code",
   "execution_count": 11,
   "metadata": {},
   "outputs": [],
   "source": [
    "# XY measurements (by slipping the probe)\n",
    "\n",
    "rtde_c.zeroFtSensor()\n",
    "\n",
    "name = \"2x2_grid_xy_subsampling_x3_08032024_schroef2_designremko\"\n",
    "measuring_interface.start_measuring(name)\n",
    "\n",
    "time.sleep(3)\n",
    "\n",
    "# Now push on every point in the grid to calibrate\n",
    "z_clearance = 0.005\n",
    "limits = [0.01, 0.01, 0.01]\n",
    "\n",
    "# (normal force, side force)\n",
    "forces = np.array([[1, 10], [2, 10], [5, 10]])\n",
    "\n",
    "controller.move_absolute(start_point[0:3])\n",
    "\n",
    "for force in forces:\n",
    "    \n",
    "    normal_force, side_force = force\n",
    "                    \n",
    "    for reversed in [False, True]:\n",
    "\n",
    "        selection_vector = [1, 0, 1]\n",
    "        wrench = [-abs(side_force) if reversed else abs(side_force), 0, -normal_force] \n",
    "        for row in grid:\n",
    "            \n",
    "            # Start from first point in grid (which is always most +x)\n",
    "            point = row[-1 if reversed else 0]\n",
    "            \n",
    "            # Move to start point\n",
    "            controller.move_absolute([point[0], point[1], top_point_z + z_clearance])\n",
    "            controller.move_absolute([point[0], point[1], top_point_z], velocity=0.01)\n",
    "            \n",
    "            time.sleep(0.5)\n",
    "            \n",
    "            # Apply force until meeting next point\n",
    "            next_point = row[0 if reversed else -1]\n",
    "            controller.force_mode(selection_vector, wrench, limits)\n",
    "            \n",
    "            # Move to last point in row\n",
    "            distance = 9999\n",
    "            while distance > 0.0005:\n",
    "                distance = np.linalg.norm(np.array(controller.get_sensor_pose()[0:2]) - np.array(next_point))\n",
    "            rtde_c.forceModeStop()\n",
    "            \n",
    "            time.sleep(0.5)\n",
    "            \n",
    "            # Move back to safety        \n",
    "            controller.move_relative([0, 0, z_clearance], velocity=0.01)\n",
    "            \n",
    "        # Do the same with columns\n",
    "        selection_vector = [0, 1, 1]\n",
    "        wrench = [0, abs(side_force) if reversed else -abs(side_force), -normal_force] \n",
    "        for col in grid.transpose((1,0,2)):\n",
    "            \n",
    "            # Start from first point in grid (which is always most +x)\n",
    "            point = col[-1 if reversed else 0]\n",
    "            \n",
    "            # Move to start point\n",
    "            controller.move_absolute([point[0], point[1], top_point_z + z_clearance])\n",
    "            controller.move_absolute([point[0], point[1], top_point_z], velocity=0.01)\n",
    "            \n",
    "            time.sleep(0.5)\n",
    "            \n",
    "            # Apply force\n",
    "            next_point = col[0 if reversed else -1]\n",
    "            controller.force_mode(selection_vector, wrench, limits)\n",
    "            \n",
    "            # Move to last point in column\n",
    "            distance = 9999\n",
    "            while distance > 0.0005:\n",
    "                distance = np.linalg.norm(np.array(controller.get_sensor_pose()[0:2]) - np.array(next_point))\n",
    "            rtde_c.forceModeStop()\n",
    "            \n",
    "            time.sleep(0.5)\n",
    "            \n",
    "            # Move back to safety        \n",
    "            controller.move_relative([0, 0, z_clearance], velocity=0.01)\n",
    "\n",
    "rtde_c.forceModeStop()\n",
    "controller.move_absolute(start_point[0:3])\n",
    "\n",
    "time.sleep(3)\n",
    "measuring_interface.stop_measuring()"
   ]
  },
  {
   "cell_type": "code",
   "execution_count": 12,
   "metadata": {},
   "outputs": [
    {
     "data": {
      "text/plain": [
       "[0.33836528997463766,\n",
       " 0.05516291358346115,\n",
       " 0.01516766486058972,\n",
       " 2.204938702393529,\n",
       " -2.232741500295932,\n",
       " 0.007244180391234549]"
      ]
     },
     "execution_count": 12,
     "metadata": {},
     "output_type": "execute_result"
    }
   ],
   "source": [
    "controller.move_absolute(start_point[0:3])"
   ]
  },
  {
   "cell_type": "code",
   "execution_count": 7,
   "metadata": {},
   "outputs": [
    {
     "ename": "NameError",
     "evalue": "name 'measuring_interface' is not defined",
     "output_type": "error",
     "traceback": [
      "\u001b[0;31m---------------------------------------------------------------------------\u001b[0m",
      "\u001b[0;31mNameError\u001b[0m                                 Traceback (most recent call last)",
      "Cell \u001b[0;32mIn [7], line 1\u001b[0m\n\u001b[0;32m----> 1\u001b[0m measuring_interface\u001b[38;5;241m.\u001b[39mstop_measuring()\n\u001b[1;32m      2\u001b[0m rtde_c\u001b[38;5;241m.\u001b[39mstopScript()\n",
      "\u001b[0;31mNameError\u001b[0m: name 'measuring_interface' is not defined"
     ]
    }
   ],
   "source": [
    "\n",
    "measuring_interface.stop_measuring()\n",
    "rtde_c.stopScript()"
   ]
  },
  {
   "cell_type": "code",
   "execution_count": 2,
   "metadata": {},
   "outputs": [
    {
     "ename": "NameError",
     "evalue": "name 'rtde_c' is not defined",
     "output_type": "error",
     "traceback": [
      "\u001b[0;31m---------------------------------------------------------------------------\u001b[0m",
      "\u001b[0;31mNameError\u001b[0m                                 Traceback (most recent call last)",
      "Cell \u001b[0;32mIn [2], line 1\u001b[0m\n\u001b[0;32m----> 1\u001b[0m rtde_c\u001b[38;5;241m.\u001b[39mstopScript()\n",
      "\u001b[0;31mNameError\u001b[0m: name 'rtde_c' is not defined"
     ]
    }
   ],
   "source": [
    "rtde_c.stopScript()"
   ]
  },
  {
   "cell_type": "code",
   "execution_count": null,
   "metadata": {},
   "outputs": [],
   "source": []
  }
 ],
 "metadata": {
  "kernelspec": {
   "display_name": "Python 3",
   "language": "python",
   "name": "python3"
  },
  "language_info": {
   "codemirror_mode": {
    "name": "ipython",
    "version": 3
   },
   "file_extension": ".py",
   "mimetype": "text/x-python",
   "name": "python",
   "nbconvert_exporter": "python",
   "pygments_lexer": "ipython3",
   "version": "3.10.12"
  }
 },
 "nbformat": 4,
 "nbformat_minor": 2
}
