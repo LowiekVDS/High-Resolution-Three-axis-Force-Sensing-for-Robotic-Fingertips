{
 "cells": [
  {
   "cell_type": "markdown",
   "metadata": {},
   "source": [
    "# Auto calibration 4x8"
   ]
  },
  {
   "cell_type": "code",
   "execution_count": 1,
   "metadata": {},
   "outputs": [],
   "source": [
    "%load_ext autoreload\n",
    "%autoreload 2"
   ]
  },
  {
   "cell_type": "code",
   "execution_count": 2,
   "metadata": {},
   "outputs": [],
   "source": [
    "import rtde_control, rtde_receive\n",
    "import tikzplotlib\n",
    "\n",
    "ROBOT_HOST = \"10.42.0.162\" # IP address of the robot\n",
    "\n",
    "rtde_r = rtde_receive.RTDEReceiveInterface(ROBOT_HOST)\n",
    "rtde_c = rtde_control.RTDEControlInterface(ROBOT_HOST)\n"
   ]
  },
  {
   "cell_type": "code",
   "execution_count": 3,
   "metadata": {},
   "outputs": [
    {
     "name": "stdout",
     "output_type": "stream",
     "text": [
      "[0.289044209330182, 0.013705227012610083, -0.1384899666042378, 2.542140458693223, 1.8456957062262291, 1.979281984194092e-05] -0.1384899666042378\n"
     ]
    }
   ],
   "source": [
    "from tools.controller import *\n",
    "controller = CalibrationController(rtde_r, rtde_c)\n",
    "\n",
    "controller.get_sensor_pose()\n",
    "\n",
    "# Victor\n",
    "# transform = np.array([[1, 0, 0],\n",
    "#                       [0, 1, 0],\n",
    "#                       [0, 0, 1]])\n",
    "transform = np.array([[np.sqrt(2)/2,-np.sqrt(2)/2, 0],\n",
    "               [-np.sqrt(2)/2, -np.sqrt(2)/2, 0],\n",
    "               [0, 0, 1]])         \n",
    "                      \n",
    "controller.set_transform(transform)\n",
    "\n",
    "start_point = controller.get_sensor_pose()\n",
    "# start_point = [-0.2409340763694389, -0.1887068514791564, -0.14776195701575625, -1.9045541303624176, -2.4983988443139533, 8.590224947108232e-05]\n",
    "\n",
    "# controller.move_absolute(start_point, 0.01)\n",
    "\n",
    "top_point_z = start_point[2]\n",
    "print(start_point, top_point_z)"
   ]
  },
  {
   "cell_type": "code",
   "execution_count": 4,
   "metadata": {},
   "outputs": [],
   "source": [
    "controller.move_absolute(start_point)\n",
    "\n",
    "# Top point\n",
    "controller.move_absolute(start_point[0:3])\n",
    "top_point_z = controller.find_contact_point([0, 0, -1], 0.005)[2] \n",
    "controller.move_absolute(start_point[0:3])\n",
    "\n",
    "depth = top_point_z - start_point[2] - 0.004\n",
    "\n",
    "# Double X points\n",
    "controller.move_relative([0.05, 0.003, 0])\n",
    "controller.move_relative([0.0, 0, depth], 0.01)\n",
    "x_pose_1 = controller.find_contact_point([-1, 0, 0], 0.005)[0:2]\n",
    "controller.move_relative([0.005, 0, 0])\n",
    "\n",
    "controller.move_relative([0, -0.003 * 2, 0])\n",
    "x_pose_2 = controller.find_contact_point([-1, 0, 0], 0.005)[0:2]\n",
    "controller.move_relative([0.005, 0, -depth])\n",
    "controller.move_absolute(start_point[0:3])\n",
    "\n",
    "# Extra x point other side\n",
    "controller.move_absolute(start_point[0:3])\n",
    "controller.move_relative([-0.05, 0, 0])\n",
    "controller.move_relative([0.0, 0, depth], 0.01)\n",
    "x_pose_3 = controller.find_contact_point([1, 0, 0], 0.005)[0:2]\n",
    "controller.move_relative([-0.005, 0, -depth])\n",
    "controller.move_absolute(start_point[0:3])\n",
    "\n",
    "\n",
    "# Single Y point\n",
    "controller.move_relative([0, 0.02, 0])\n",
    "controller.move_relative([0.0, 0, depth], 0.01)\n",
    "y_pose_1 = controller.find_contact_point([0, -1, 0], 0.005)[0:2]\n",
    "controller.move_relative([0, 0.005, -depth])\n",
    "controller.move_absolute(start_point[0:3])\n",
    "\n",
    "# second Y point\n",
    "controller.move_relative([0, -0.02, 0])\n",
    "controller.move_relative([0.0, 0, depth], 0.01)\n",
    "y_pose_2 = controller.find_contact_point([0, 1, 0], 0.005)[0:2]\n",
    "controller.move_relative([0, -0.005, -depth])\n",
    "controller.move_absolute(start_point[0:3])\n",
    "\n",
    "poses = np.array([x_pose_1, x_pose_2, x_pose_3, y_pose_1, y_pose_2])"
   ]
  },
  {
   "cell_type": "code",
   "execution_count": 5,
   "metadata": {},
   "outputs": [],
   "source": [
    "poses = np.array([x_pose_1, x_pose_2, x_pose_3, y_pose_1, y_pose_2])"
   ]
  },
  {
   "cell_type": "code",
   "execution_count": 6,
   "metadata": {},
   "outputs": [
    {
     "name": "stdout",
     "output_type": "stream",
     "text": [
      "[[0.30634564 0.01661632]\n",
      " [0.3061765  0.01055515]\n",
      " [0.25806891 0.01372049]\n",
      " [0.28898899 0.0317356 ]\n",
      " [0.28912365 0.00469047]]\n"
     ]
    }
   ],
   "source": [
    "print(poses)"
   ]
  },
  {
   "cell_type": "code",
   "execution_count": 7,
   "metadata": {},
   "outputs": [
    {
     "name": "stdout",
     "output_type": "stream",
     "text": [
      "Width x: 0.04436349736462737, width y: 0.023045465189296493\n"
     ]
    },
    {
     "data": {
      "image/png": "[encoded data removed]",
      "text/plain": [
       "<Figure size 640x480 with 1 Axes>"
      ]
     },
     "metadata": {},
     "output_type": "display_data"
    }
   ],
   "source": [
    "from tools.helpers import *\n",
    "import matplotlib.pyplot as plt\n",
    "import matplotlib\n",
    "\n",
    "tool_width = 0.004 / 2 # We want radius\n",
    "pitch = 0.0045\n",
    "# 7mm for my design, 6mm for remko design\n",
    "offset = (0.09 + pitch / 2, 0.0025 + pitch / 2) # Offset should be the position of the first sensor, NOT the corner of the silicon\n",
    "sensor_grid_size = (8, 4)\n",
    "nr_of_subpoints = 0\n",
    "\n",
    "grid_size = (sensor_grid_size[0] + (sensor_grid_size[0] - 1) * nr_of_subpoints, sensor_grid_size[1] + (sensor_grid_size[1] - 1) * nr_of_subpoints )\n",
    "\n",
    "width_x = np.linalg.norm(np.array(x_pose_1) - np.array(x_pose_3)) - 2 * tool_width\n",
    "width_y = np.linalg.norm(np.array(y_pose_1) - np.array(y_pose_2)) - 2 * tool_width\n",
    "\n",
    "print(f\"Width x: {width_x}, width y: {width_y}\")\n",
    "\n",
    "offset = ( (width_x - pitch * (sensor_grid_size[0] - 1)) / 2, offset[1])\n",
    "\n",
    "offset = ( (width_x - pitch * (sensor_grid_size[0] - 1)) / 2, (width_y - pitch * (sensor_grid_size[1] - 1)) / 2)\n",
    "\n",
    "offset = (offset[0] - 0.0004, offset[1] - 0.00015)\n",
    "\n",
    "\n",
    "corners, deltas = get_square_corners(x_pose_1, x_pose_2, y_pose_1, width_x, width_x, tool_width)\n",
    "\n",
    "# Corners index 0 and 3 are the bottom points\n",
    "# So now we need to calculate the grid based on those\n",
    "\n",
    "plt.scatter(poses[:, 0], poses[:, 1], c='black', label='Probe points')\n",
    "plt.scatter(corners[:, 0], corners[:, 1], c='blue')\n",
    "\n",
    "# plt.plot([corners[-1, 0], corners[0, 0]], [corners[-1, 1], corners[0,1]], c='blue', label='Fingertip ')\n",
    "# plt.plot([corners[0, 0], corners[1, 0]], [corners[0, 1], corners[1,1]], c='blue')\n",
    "# plt.plot([corners[1, 0], corners[2, 0]], [corners[1, 1], corners[2,1]], c='blue')\n",
    "\n",
    "grid = calculate_grid_on_square(corners, offset, grid_size, pitch / (nr_of_subpoints + 1))\n",
    "\n",
    "# Add startpoint index 2,3,4,5 to grid\n",
    "actual_grid = np.zeros((grid_size[1], grid_size[0], 6))\n",
    "actual_grid[:, :, 2:] = start_point[2:]\n",
    "actual_grid[:, :, :2] = grid\n",
    "\n",
    "grid = actual_grid\n",
    "\n",
    "# matplotlib.rcParams[\"figure.dpi\"] = 1200\n",
    "\n",
    "plt.grid()\n",
    "plt.scatter(grid[:, :, 0], grid[:, :, 1], c='red', label='Taxels')\n",
    "\n",
    "plt.xlabel\n",
    "plt.legend(loc='upper center')\n",
    "\n",
    "\n",
    "plt.gca().set_aspect('equal')\n",
    "plt.gca().invert_yaxis()\n",
    "\n",
    "# plt.savefig(\"./result.png\", bbox_inches='tight', format='png', dpi=1000)"
   ]
  },
  {
   "cell_type": "code",
   "execution_count": 9,
   "metadata": {},
   "outputs": [
    {
     "data": {
      "text/plain": [
       "[0.2890445049769556,\n",
       " 0.013745731255339615,\n",
       " -0.13850661825568783,\n",
       " 2.5421259782296906,\n",
       " 1.843719105445854,\n",
       " 0.0011086929129145021]"
      ]
     },
     "execution_count": 9,
     "metadata": {},
     "output_type": "execute_result"
    }
   ],
   "source": [
    "# Check if ok\n",
    "import time\n",
    "z_clearance = 0.001\n",
    "duration = 5\n",
    "\n",
    "controller.move_absolute(start_point[0:3])\n",
    "\n",
    "for row in grid:\n",
    "    for point in row:\n",
    "        \n",
    "        # Move above point\n",
    "        controller.move_absolute([point[0], point[1], top_point_z + z_clearance])\n",
    "        \n",
    "        time.sleep(duration / (grid_size[0] * grid_size[1]))\n",
    "  \n",
    "controller.move_absolute(start_point[0:3])"
   ]
  },
  {
   "cell_type": "code",
   "execution_count": 11,
   "metadata": {},
   "outputs": [],
   "source": [
    "import time\n",
    "from tools.measuring import MeasuringInterface\n",
    "measuring_interface = MeasuringInterface(controller)"
   ]
  },
  {
   "cell_type": "code",
   "execution_count": 14,
   "metadata": {},
   "outputs": [],
   "source": [
    "measuring_interface.start_measuring(\"tmp\")\n",
    "time.sleep(1)\n",
    "measuring_interface.stop_measuring()"
   ]
  },
  {
   "cell_type": "code",
   "execution_count": 15,
   "metadata": {},
   "outputs": [],
   "source": [
    "def ascending_sine_wave(time, frequency, max_amplitude, phase_shift = 0, shifted=True):\n",
    "    max_time = np.max(time)\n",
    "    time_adjusted = time - max_time\n",
    "    if shifted:\n",
    "        y_values = max_amplitude / max_time / 2 * time * (np.sin(2 * np.pi * frequency * time_adjusted - np.pi/2 + phase_shift) + 1)\n",
    "    else:\n",
    "        y_values = max_amplitude / max_time * time * np.sin(2 * np.pi * frequency * time_adjusted - np.pi/2 + phase_shift)\n",
    "        \n",
    "    return y_values[::-1]\n",
    "\n"
   ]
  },
  {
   "cell_type": "code",
   "execution_count": 16,
   "metadata": {},
   "outputs": [],
   "source": [
    "from time import sleep\n",
    "\n",
    "def apply_general_force(input_curves, sample_rate=200):\n",
    "  \n",
    "  limits = [0.1, 0.1, 0.1]\n",
    "  \n",
    "  points_x = input_curves[0]\n",
    "  points_y = input_curves[1]  \n",
    "  points_z = input_curves[2]\n",
    "  \n",
    "  assert len(points_x) == len(points_y) == len(points_z)\n",
    "  \n",
    "  for i in range(len(input_curves[0])):\n",
    "    \n",
    "    f_x = points_x[i]\n",
    "    f_y = points_y[i]\n",
    "    f_z = points_z[i]\n",
    "    \n",
    "    controller.force_mode([1, 1, 1], [f_x, f_y, f_z], limits)\n",
    "    sleep(1 / sample_rate)\n",
    "\n",
    "  "
   ]
  },
  {
   "cell_type": "code",
   "execution_count": 17,
   "metadata": {},
   "outputs": [
    {
     "data": {
      "image/png": "[encoded data removed]",
      "text/plain": [
       "<Figure size 640x480 with 1 Axes>"
      ]
     },
     "metadata": {},
     "output_type": "display_data"
    }
   ],
   "source": [
    "import matplotlib.pyplot as plt\n",
    "import numpy as np\n",
    "\n",
    "def generate_forces(frequency, max_force, length, sample_rate=200):\n",
    "  force_rate = abs(max_force) / length\n",
    "\n",
    "  time = np.linspace(0, abs(max_force) / force_rate, int(abs(max_force) / force_rate * sample_rate))  # Time values from 0 to 2 seconds\n",
    "\n",
    "  normal_force_values = ascending_sine_wave(time, frequency, max_force, 0, True)\n",
    "  \n",
    "  return normal_force_values\n",
    "\n",
    "for freq in [0.5]:\n",
    "  normal_force_values = generate_forces(freq, -10, 30) \n",
    "  time = np.linspace(0, 30, len(normal_force_values))\n",
    "  plt.plot(time,normal_force_values)\n",
    "plt.grid(True)\n",
    "plt.xlabel(\"Time [s]\")\n",
    "plt.ylabel(\"Force [N]\")\n",
    "\n",
    "import tikzplotlib\n",
    "tikzplotlib.clean_figure()\n",
    "tikzplotlib.save(\"force_curve.tex\")"
   ]
  },
  {
   "cell_type": "code",
   "execution_count": 18,
   "metadata": {},
   "outputs": [
    {
     "data": {
      "image/png": "[encoded data removed]",
      "text/plain": [
       "<Figure size 640x480 with 1 Axes>"
      ]
     },
     "metadata": {},
     "output_type": "display_data"
    }
   ],
   "source": [
    "import numpy as np\n",
    "def generate_xy_forces(frequency, max_force, length, sample_rate=200):\n",
    "  force_rate = max_force / length\n",
    "\n",
    "  time = np.linspace(0, abs(max_force) / force_rate, int(abs(max_force) / force_rate * sample_rate))  # Time values from 0 to 2 seconds\n",
    "\n",
    "  x_force_values = ascending_sine_wave(time, frequency, max_force, 0, False)\n",
    "  y_force_values = ascending_sine_wave(time, frequency, max_force, np.pi/2, False)\n",
    "  \n",
    "  return x_force_values, y_force_values\n",
    "\n",
    "x_force_values, y_force_values = generate_xy_forces(0.5, 5, 30)\n",
    "\n",
    "plt.plot(x_force_values)\n",
    "# plt.plot(y_force_values)\n",
    "plt.grid(True)\n",
    "plt.xlabel(\"Time [s]\")\n",
    "plt.ylabel(\"Force [N]\")\n",
    "plt.savefig(\"./result.png\", bbox_inches='tight', format='png', dpi=1000)"
   ]
  },
  {
   "cell_type": "code",
   "execution_count": 24,
   "metadata": {},
   "outputs": [
    {
     "data": {
      "text/plain": [
       "[-0.24095737727448496,\n",
       " -0.18870368695887668,\n",
       " -0.1495514128932386,\n",
       " -1.904574922807175,\n",
       " -2.49833306927183,\n",
       " 0.00014257650281837252]"
      ]
     },
     "execution_count": 24,
     "metadata": {},
     "output_type": "execute_result"
    }
   ],
   "source": [
    "controller.move_absolute(start_point)\n",
    "rtde_c.zeroFtSensor()\n",
    "\n",
    "measuring_interface.start_measuring(\"taxel28_test\")\n",
    "sleep(3)\n",
    "\n",
    "for freq in [0.5, 3]:\n",
    "\n",
    "  normal_force_values = generate_forces(freq, -10, 30)\n",
    "  xy_force = np.zeros_like(normal_force_values)  \n",
    "\n",
    "  controller.move_absolute(start_point)\n",
    "  rtde_c.zeroFtSensor()\n",
    "  sleep(1)\n",
    "  \n",
    "  controller.move_relative([0,0,-0.005], 0.005)\n",
    "\n",
    "  sleep(1)\n",
    "\n",
    "  apply_general_force([xy_force, xy_force, normal_force_values], 200)\n",
    "  \n",
    "  rtde_c.forceModeStop()\n",
    "  controller.move_absolute(start_point)\n",
    "  \n",
    "  sleep(3)\n",
    "\n",
    "sleep(3)\n",
    "measuring_interface.stop_measuring()\n",
    "rtde_c.forceModeStop()\n",
    "controller.move_absolute(start_point)"
   ]
  },
  {
   "cell_type": "code",
   "execution_count": 132,
   "metadata": {},
   "outputs": [],
   "source": [
    "def calibrate_taxel(taxel_id, point, clearance, sample_rate=200):\n",
    "  \n",
    "  controller.move_absolute(point)\n",
    "  rtde_c.zeroFtSensor()\n",
    "\n",
    "  measuring_interface.start_measuring(f\"taxel{taxel_id}\")\n",
    "  sleep(3)      \n",
    "  \n",
    "  for freq in [0.5, 3]:\n",
    "    \n",
    "    #\n",
    "    # Z component\n",
    "    #\n",
    "\n",
    "    max_force = -10\n",
    "    length = 30\n",
    "    force_rate = abs(max_force) / length\n",
    "    \n",
    "    time = np.linspace(0, abs(max_force) / force_rate, int(abs(max_force) / force_rate * sample_rate))  # Time values from 0 to 2 seconds\n",
    "    normal_force_values = ascending_sine_wave(time, freq, max_force, 0, True)\n",
    "    \n",
    "    xy_force = np.zeros_like(normal_force_values)\n",
    "\n",
    "    controller.move_absolute(point)\n",
    "    rtde_c.zeroFtSensor()\n",
    "    sleep(1)\n",
    "    \n",
    "    controller.move_relative([0,0,-1 * clearance], 0.005)\n",
    "\n",
    "    sleep(1)\n",
    "\n",
    "    apply_general_force([xy_force, xy_force, normal_force_values], 200)\n",
    "    \n",
    "    rtde_c.forceModeStop()\n",
    "    controller.move_absolute(point)\n",
    "    \n",
    "    sleep(3)\n",
    "    \n",
    "    #\n",
    "    # X component\n",
    "    #\n",
    "    \n",
    "    max_force = 5\n",
    "    length = 30\n",
    "    force_rate = abs(max_force) / length\n",
    "    \n",
    "    time = np.linspace(0, abs(max_force) / force_rate, int(abs(max_force) / force_rate * sample_rate))  # Time values from 0 to 2 seconds\n",
    "    x_force = ascending_sine_wave(time, freq, max_force, 0, False)\n",
    "    \n",
    "    y_force = np.zeros_like(x_force)\n",
    "    normal_force = np.ones_like(x_force) * -5\n",
    "    \n",
    "    # Zero prefix for the first 5 seconds\n",
    "    x_force = np.concatenate([np.zeros(int(5 * sample_rate)), x_force])\n",
    "    y_force = np.concatenate([np.zeros(int(5 * sample_rate)), y_force])\n",
    "    normal_force = np.concatenate([np.ones(int(5 * sample_rate)) * -5, normal_force])\n",
    "\n",
    "    controller.move_absolute(point)\n",
    "    rtde_c.zeroFtSensor()\n",
    "    sleep(1)\n",
    "    \n",
    "    controller.move_relative([0,0,-0.003], 0.005)\n",
    "\n",
    "    sleep(1)\n",
    "\n",
    "    apply_general_force([x_force, y_force, normal_force], 200)\n",
    "    \n",
    "    rtde_c.forceModeStop()\n",
    "    controller.move_absolute(point)\n",
    "    \n",
    "    sleep(3)\n",
    "    \n",
    "    #\n",
    "    # Y component\n",
    "    #\n",
    "    \n",
    "    controller.move_absolute(point)\n",
    "    rtde_c.zeroFtSensor()\n",
    "    sleep(1)\n",
    "    \n",
    "    controller.move_relative([0,0,-1 * clearance], 0.005)\n",
    "\n",
    "    sleep(1)\n",
    "\n",
    "    apply_general_force([y_force, x_force, normal_force], 200)\n",
    "    \n",
    "    rtde_c.forceModeStop()\n",
    "    controller.move_absolute(point)\n",
    "    \n",
    "    sleep(3)\n",
    "    \n",
    "    #\n",
    "    # XY component (validation)\n",
    "    #\n",
    "    \n",
    "    x_force = ascending_sine_wave(time, freq, max_force, 0, False)\n",
    "    y_force = ascending_sine_wave(time, freq, max_force, np.pi/2, False)\n",
    "    \n",
    "    # Zero prefix for the first 5 seconds\n",
    "    x_force = np.concatenate([np.zeros(int(5 * sample_rate)), x_force])\n",
    "    y_force = np.concatenate([np.zeros(int(5 * sample_rate)), y_force])    \n",
    "    \n",
    "    controller.move_absolute(point)\n",
    "    rtde_c.zeroFtSensor()\n",
    "    sleep(1)\n",
    "    \n",
    "    controller.move_relative([0,0,-1 * clearance], 0.005)\n",
    "\n",
    "    sleep(1)\n",
    "\n",
    "    apply_general_force([y_force, x_force, normal_force], 200)\n",
    "    \n",
    "    rtde_c.forceModeStop()\n",
    "    controller.move_absolute(point)\n",
    "    \n",
    "    sleep(3)\n",
    "    \n",
    "    \n",
    "    \n",
    "      \n",
    "      \n",
    "\n",
    "  measuring_interface.stop_measuring()\n",
    "  rtde_c.forceModeStop()\n",
    "  controller.move_absolute(start_point)"
   ]
  },
  {
   "cell_type": "code",
   "execution_count": 133,
   "metadata": {},
   "outputs": [
    {
     "name": "stdout",
     "output_type": "stream",
     "text": [
      "0.0034203192938440873\n"
     ]
    }
   ],
   "source": [
    "clearance = 0.9 * (start_point[2] - top_point_z)\n",
    "print(clearance)"
   ]
  },
  {
   "cell_type": "code",
   "execution_count": 135,
   "metadata": {},
   "outputs": [
    {
     "name": "stdout",
     "output_type": "stream",
     "text": [
      "Calibrating taxel 31\n",
      "Skipping taxel 31\n",
      "Calibrating taxel 27\n",
      "Skipping taxel 27\n",
      "Calibrating taxel 23\n",
      "Skipping taxel 23\n",
      "Calibrating taxel 19\n",
      "Skipping taxel 19\n",
      "Calibrating taxel 15\n",
      "Skipping taxel 15\n",
      "Calibrating taxel 11\n",
      "Skipping taxel 11\n",
      "Calibrating taxel 7\n",
      "Skipping taxel 7\n",
      "Calibrating taxel 3\n",
      "Skipping taxel 3\n",
      "Calibrating taxel 30\n",
      "Skipping taxel 30\n",
      "Calibrating taxel 26\n",
      "Skipping taxel 26\n",
      "Calibrating taxel 22\n",
      "Skipping taxel 22\n",
      "Calibrating taxel 18\n",
      "Skipping taxel 18\n",
      "Calibrating taxel 14\n",
      "Calibrating taxel 10\n",
      "Calibrating taxel 6\n",
      "Calibrating taxel 2\n",
      "Calibrating taxel 29\n",
      "Skipping taxel 29\n",
      "Calibrating taxel 25\n",
      "Skipping taxel 25\n",
      "Calibrating taxel 21\n",
      "Skipping taxel 21\n",
      "Calibrating taxel 17\n",
      "Skipping taxel 17\n",
      "Calibrating taxel 13\n",
      "Skipping taxel 13\n",
      "Calibrating taxel 9\n",
      "Skipping taxel 9\n",
      "Calibrating taxel 5\n",
      "Skipping taxel 5\n",
      "Calibrating taxel 1\n",
      "Skipping taxel 1\n",
      "Calibrating taxel 28\n",
      "Skipping taxel 28\n",
      "Calibrating taxel 24\n",
      "Skipping taxel 24\n",
      "Calibrating taxel 20\n",
      "Skipping taxel 20\n",
      "Calibrating taxel 16\n",
      "Skipping taxel 16\n",
      "Calibrating taxel 12\n",
      "Skipping taxel 12\n",
      "Calibrating taxel 8\n",
      "Skipping taxel 8\n",
      "Calibrating taxel 4\n",
      "Skipping taxel 4\n",
      "Calibrating taxel 0\n",
      "Skipping taxel 0\n"
     ]
    }
   ],
   "source": [
    "# ids = [28, 24, 20, 16, 12, 8, 4, 0] + [29, 25, 21, 17, 13, 9, 5, 1] + [30, 26, 22, 18, 14, 10, 6, 2] + [31, 27, 23, 19, 15, 11, 7, 3]\n",
    "ids = [31, 27, 23, 19, 15, 11, 7, 3, 30, 26, 22, 18, 14, 10, 6, 2, 29, 25, 21, 17, 13, 9, 5, 1, 28, 24, 20, 16, 12, 8, 4, 0]\n",
    "\n",
    "actual_skip = [28, 24, 20, 16,        31, 27, 23, 19, 15, 11, 7, 3,        30, 26, 22, 18,         29, 25, 21, 17, 13, 9, 5, 1, 12, 8, 4, 0]\n",
    "skip = actual_skip\n",
    "\n",
    "controller.move_absolute(start_point)\n",
    "  \n",
    "for i, id in enumerate(ids):\n",
    "  \n",
    "  print(f\"Calibrating taxel {id}\")\n",
    "  \n",
    "  if id in skip:\n",
    "    print(\"Skipping taxel\", id)\n",
    "    continue\n",
    "  \n",
    "  # Move to grid position\n",
    "  controller.move_absolute(grid[i // 8][i % 8])\n",
    "  controller.move_relative([0,0,-1 * clearance], 0.005)\n",
    "  \n",
    "  try:\n",
    "      \n",
    "    result = input(\"Confirm that the taxel is in the correct position\")\n",
    "    \n",
    "    if result != \"y\":\n",
    "      raise Exception(\"Taxel not in correct position\")\n",
    "    \n",
    "    controller.move_relative([0,0,clearance], 0.005)\n",
    "    \n",
    "\n",
    "    calibrate_taxel(id, grid[i // 8][i % 8], clearance)\n",
    "  except Exception as e:\n",
    "    print(e)\n",
    "    print(\"Error on taxel\", id)\n",
    "    \n",
    "    measuring_interface.stop_measuring()\n",
    "    rtde_c.forceModeStop()\n",
    "    controller.move_relative([0,0,0.01], 0.005)\n",
    "    controller.move_absolute(start_point)\n",
    "    break"
   ]
  },
  {
   "cell_type": "code",
   "execution_count": 136,
   "metadata": {},
   "outputs": [
    {
     "data": {
      "text/plain": [
       "[-0.21350899637567372,\n",
       " -0.17940607203090658,\n",
       " -0.14850435283316607,\n",
       " -1.9067212317245672,\n",
       " -2.4966980317261562,\n",
       " 0.00021040746109735845]"
      ]
     },
     "execution_count": 136,
     "metadata": {},
     "output_type": "execute_result"
    },
    {
     "name": "stdout",
     "output_type": "stream",
     "text": [
      "Reconnecting...\n"
     ]
    },
    {
     "name": "stderr",
     "output_type": "stream",
     "text": [
      "RTDEControlInterface: Could not receive data from robot...\n",
      "RTDEControlInterface Exception: End of file\n",
      "RTDEControlInterface: Robot is disconnected, reconnecting...\n",
      "RTDEControlInterface Exception: Timeout connecting to UR dashboard server.\n",
      "RTDEReceiveInterface Exception: End of file\n"
     ]
    }
   ],
   "source": [
    "measuring_interface.stop_measuring()\n",
    "rtde_c.forceModeStop()\n",
    "controller.move_absolute(start_point)"
   ]
  },
  {
   "cell_type": "code",
   "execution_count": null,
   "metadata": {},
   "outputs": [],
   "source": []
  },
  {
   "cell_type": "code",
   "execution_count": null,
   "metadata": {},
   "outputs": [],
   "source": []
  },
  {
   "cell_type": "code",
   "execution_count": null,
   "metadata": {},
   "outputs": [],
   "source": []
  }
 ],
 "metadata": {
  "kernelspec": {
   "display_name": "Python 3",
   "language": "python",
   "name": "python3"
  },
  "language_info": {
   "codemirror_mode": {
    "name": "ipython",
    "version": 3
   },
   "file_extension": ".py",
   "mimetype": "text/x-python",
   "name": "python",
   "nbconvert_exporter": "python",
   "pygments_lexer": "ipython3",
   "version": "3.10.12"
  }
 },
 "nbformat": 4,
 "nbformat_minor": 2
}
