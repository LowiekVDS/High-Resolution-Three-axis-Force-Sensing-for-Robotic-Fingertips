{
 "cells": [
  {
   "cell_type": "markdown",
   "metadata": {},
   "source": [
    "# Model creation (superresolution)"
   ]
  },
  {
   "cell_type": "code",
   "execution_count": 38,
   "metadata": {},
   "outputs": [
    {
     "name": "stdout",
     "output_type": "stream",
     "text": [
      "The autoreload extension is already loaded. To reload it, use:\n",
      "  %reload_ext autoreload\n"
     ]
    }
   ],
   "source": [
    "%load_ext autoreload\n",
    "%autoreload 2"
   ]
  },
  {
   "cell_type": "markdown",
   "metadata": {},
   "source": [
    "# Setup"
   ]
  },
  {
   "cell_type": "code",
   "execution_count": 39,
   "metadata": {},
   "outputs": [],
   "source": [
    "# Imports\n",
    "import pandas as pd\n",
    "import matplotlib.pyplot as plt\n",
    "import os\n",
    "import numpy as np\n",
    "import tools.common_functions as cf\n",
    "import tools.regression as reg\n",
    "\n",
    "# Parameters\n",
    "SENSOR_LAG = 25 # ms\n",
    "ARRAY_W = 2\n",
    "ARRAY_H = 2\n",
    "NR_SUBREGIONS = 1\n",
    "DATA_NORMAL_FORCE_FILE = f\"table_calibration/2x2_hystersis_taxel2_fast\"\n",
    "\n",
    "# Automated\n",
    "ARRAY_SIZE = ARRAY_W * ARRAY_H\n",
    "ARRAY_SIZE_SUB = (ARRAY_W + (ARRAY_W - 1) * (NR_SUBREGIONS - 1)) * (ARRAY_H + (ARRAY_H - 1) * (NR_SUBREGIONS - 1))\n",
    "data_columns = [f'X{i}' for i in range(ARRAY_SIZE)] + [f'Y{i}' for i in range(ARRAY_SIZE)] + [f'Z{i}' for i in range(ARRAY_SIZE)] + ['level_sensor']\n"
   ]
  },
  {
   "cell_type": "code",
   "execution_count": 40,
   "metadata": {},
   "outputs": [
    {
     "name": "stdout",
     "output_type": "stream",
     "text": [
      "<class 'pandas.core.frame.DataFrame'>\n",
      "RangeIndex: 2653 entries, 0 to 2652\n",
      "Data columns (total 14 columns):\n",
      " #   Column        Non-Null Count  Dtype  \n",
      "---  ------        --------------  -----  \n",
      " 0   t_wall        2653 non-null   float64\n",
      " 1   level_sensor  2653 non-null   int64  \n",
      " 2   X0            2653 non-null   float64\n",
      " 3   Y0            2653 non-null   float64\n",
      " 4   Z0            2653 non-null   float64\n",
      " 5   X1            2653 non-null   float64\n",
      " 6   Y1            2653 non-null   float64\n",
      " 7   Z1            2653 non-null   float64\n",
      " 8   X2            2653 non-null   float64\n",
      " 9   Y2            2653 non-null   float64\n",
      " 10  Z2            2653 non-null   float64\n",
      " 11  X3            2653 non-null   float64\n",
      " 12  Y3            2653 non-null   float64\n",
      " 13  Z3            2653 non-null   float64\n",
      "dtypes: float64(13), int64(1)\n",
      "memory usage: 290.3 KB\n",
      "<class 'pandas.core.frame.DataFrame'>\n",
      "Int64Index: 14208 entries, 2 to 14209\n",
      "Data columns (total 25 columns):\n",
      " #   Column        Non-Null Count  Dtype  \n",
      "---  ------        --------------  -----  \n",
      " 0   index         14208 non-null  int64  \n",
      " 1   t_wall        14208 non-null  float64\n",
      " 2   level_sensor  14208 non-null  float64\n",
      " 3   X0            14208 non-null  float64\n",
      " 4   Y0            14208 non-null  float64\n",
      " 5   Z0            14208 non-null  float64\n",
      " 6   X1            14208 non-null  float64\n",
      " 7   Y1            14208 non-null  float64\n",
      " 8   Z1            14208 non-null  float64\n",
      " 9   X2            14208 non-null  float64\n",
      " 10  Y2            14208 non-null  float64\n",
      " 11  Z2            14208 non-null  float64\n",
      " 12  X3            14208 non-null  float64\n",
      " 13  Y3            14208 non-null  float64\n",
      " 14  Z3            14208 non-null  float64\n",
      " 15  level_robot   14208 non-null  float64\n",
      " 16  F_x           14208 non-null  float64\n",
      " 17  F_y           14208 non-null  float64\n",
      " 18  F_z           14208 non-null  float64\n",
      " 19  T_x           14208 non-null  float64\n",
      " 20  T_y           14208 non-null  float64\n",
      " 21  T_z           14208 non-null  float64\n",
      " 22  X             14208 non-null  float64\n",
      " 23  Y             14208 non-null  float64\n",
      " 24  Z             14208 non-null  float64\n",
      "dtypes: float64(24), int64(1)\n",
      "memory usage: 2.8 MB\n"
     ]
    }
   ],
   "source": [
    "# Load in data file and prepare for fitting\n",
    "normal_force_df = cf.prepare_data_for_fitting(DATA_NORMAL_FORCE_FILE, ARRAY_SIZE, SENSOR_LAG, False)\n",
    "normal_force_df.info()"
   ]
  },
  {
   "cell_type": "code",
   "execution_count": null,
   "metadata": {},
   "outputs": [],
   "source": [
    "# Extract boundary points\n",
    "center_points, normal_force_normalized_df = cf.extract_center_points_from_data(normal_force_df, ARRAY_SIZE_SUB, normalize=True) \n",
    "\n",
    "plt.scatter(normal_force_normalized_df['X'], normal_force_normalized_df['Y'],s=1, c='r')\n",
    "plt.scatter(center_points[:,0], center_points[:,1])\n",
    "plt.gca().set_aspect('equal', adjustable='box')\n",
    "plt.show()"
   ]
  },
  {
   "cell_type": "code",
   "execution_count": null,
   "metadata": {},
   "outputs": [],
   "source": [
    "# Now split into the 4 regions used for fitting\n",
    "regions_data = cf.split_data_into_regions(normal_force_df, center_points, min_distance=0.1)\n",
    "\n",
    "for data in regions_data:\n",
    "  print(data.head())\n",
    "  plt.scatter(data['X'], data['Y'],s=1)\n",
    "plt.show()"
   ]
  },
  {
   "cell_type": "code",
   "execution_count": null,
   "metadata": {},
   "outputs": [],
   "source": [
    "# Now fit the data per region (=taxel)\n",
    "# Model: {X{i}, Y{i}, Z{i}} -> F_z{i}\n",
    "\n",
    "normal_force_models_taxels = []\n",
    "\n",
    "for region in regions_data:\n",
    "  \n",
    "  # Find largest activation \n",
    "  Z_measurements = region[[f'Z{i}' for i in range(ARRAY_SIZE)]]\n",
    "  largest_activation_in_region_index = np.argmax(np.max(Z_measurements) - np.min(Z_measurements))\n",
    "  \n",
    "  print(\"Taxel {} has largest activation\".format(largest_activation_in_region_index))\n",
    "  \n",
    "  X = region[[f'Z{largest_activation_in_region_index}']]\n",
    "  y = region[['F_z']]\n",
    "  \n",
    "  # Fit\n",
    "  model = reg.create_regression_pipeline_and_fit(X, y)\n",
    "  model.activation_index = largest_activation_in_region_index\n",
    "  \n",
    "  normal_force_models_taxels.append(model)\n",
    "  "
   ]
  },
  {
   "cell_type": "code",
   "execution_count": null,
   "metadata": {},
   "outputs": [],
   "source": [
    "errors = []\n",
    "indices = []\n",
    "\n",
    "for model, region in zip(normal_force_models_taxels, regions_data):\n",
    "  \n",
    "  print(model.activation_index)\n",
    "  indices.append(model.activation_index)\n",
    "  \n",
    "  # Predict\n",
    "  Z_measurements = region[[f'Z{i}' for i in range(ARRAY_SIZE)]]\n",
    "  X = region[[f'Z{model.activation_index}']]\n",
    "  Y_pred = model.predict(X)\n",
    "  \n",
    "  print(Y_pred.shape)\n",
    "  \n",
    "  plt.plot(region[[f'Z{model.activation_index}']])\n",
    "  plt.show()\n",
    "  \n",
    "  # Plot against actual\n",
    "  for i, name in enumerate(['F_z']):\n",
    "    plt.figure()\n",
    "    plt.title(name)\n",
    "    plt.plot(region[name])\n",
    "    plt.plot(Y_pred)\n",
    "    plt.show()\n",
    "    \n",
    "  # Calculate error\n",
    "  errors.append(region[name].to_numpy() - Y_pred[:, 0])\n",
    "\n",
    "  plt.show()\n",
    "  \n",
    "i = 0\n",
    "for index, err in zip(indices, errors):\n",
    "  \n",
    "  plt.plot(regions_data[i][f'F_z'], err)\n",
    "  i += 1"
   ]
  },
  {
   "cell_type": "code",
   "execution_count": null,
   "metadata": {},
   "outputs": [],
   "source": []
  },
  {
   "cell_type": "code",
   "execution_count": null,
   "metadata": {},
   "outputs": [],
   "source": []
  },
  {
   "cell_type": "markdown",
   "metadata": {},
   "source": [
    "# Hysteresis testing\n"
   ]
  },
  {
   "cell_type": "code",
   "execution_count": 41,
   "metadata": {},
   "outputs": [],
   "source": [
    "split_df = normal_force_df[normal_force_df['level_sensor'] == 1]"
   ]
  },
  {
   "cell_type": "code",
   "execution_count": 42,
   "metadata": {},
   "outputs": [
    {
     "data": {
      "text/plain": [
       "[<matplotlib.lines.Line2D at 0x7e1e6d7f6ec0>]"
      ]
     },
     "execution_count": 42,
     "metadata": {},
     "output_type": "execute_result"
    },
    {
     "data": {
      "image/png": "[encoded data removed]",
      "text/plain": [
       "<Figure size 640x480 with 1 Axes>"
      ]
     },
     "metadata": {},
     "output_type": "display_data"
    }
   ],
   "source": [
    "plt.plot(split_df['Z'], split_df['F_z'])"
   ]
  },
  {
   "cell_type": "code",
   "execution_count": 43,
   "metadata": {},
   "outputs": [
    {
     "data": {
      "text/plain": [
       "[<matplotlib.lines.Line2D at 0x7e1e6d662440>]"
      ]
     },
     "execution_count": 43,
     "metadata": {},
     "output_type": "execute_result"
    },
    {
     "data": {
      "image/png": "[encoded data removed]",
      "text/plain": [
       "<Figure size 640x480 with 1 Axes>"
      ]
     },
     "metadata": {},
     "output_type": "display_data"
    }
   ],
   "source": [
    "plt.plot(split_df['Z2'], split_df['Z'])"
   ]
  },
  {
   "cell_type": "code",
   "execution_count": 44,
   "metadata": {},
   "outputs": [
    {
     "data": {
      "text/plain": [
       "[<matplotlib.lines.Line2D at 0x7e1e6d6635b0>]"
      ]
     },
     "execution_count": 44,
     "metadata": {},
     "output_type": "execute_result"
    },
    {
     "data": {
      "image/png": "[encoded data removed]",
      "text/plain": [
       "<Figure size 640x480 with 1 Axes>"
      ]
     },
     "metadata": {},
     "output_type": "display_data"
    }
   ],
   "source": [
    "plt.plot(split_df['Z2'], split_df['F_z'])"
   ]
  },
  {
   "cell_type": "code",
   "execution_count": null,
   "metadata": {},
   "outputs": [],
   "source": [
    "# Plot F_z vs normalized deformation\n",
    "min_index = 600\n",
    "max_index = 3200\n",
    "data = regions_data[0].copy()[min_index:max_index]\n",
    "\n",
    "z_data = data['Z'].to_numpy()\n",
    "z_data -= z_data[0]\n",
    "# if np.min(z_data) < 0:\n",
    "z_data *= -1\n",
    "\n",
    "measurements = data['Z2'].to_numpy()\n",
    "output = data['F_z'].to_numpy()\n",
    "\n",
    "def moving_average(x, w):\n",
    "    return np.pad(np.convolve(x, np.ones(w), 'valid') / w, (w, 0), mode='constant')\n",
    "  \n",
    "differential = np.diff(moving_average(measurements, 10))\n",
    "c = ['r' if d < 0 else 'g' for d in differential]\n",
    "\n",
    "mask = differential > 0\n",
    "\n",
    "fig, axs = plt.subplots(2)\n",
    "\n",
    "axs[0].plot(z_data)\n",
    "# plt.ylabel('Deformation')\n",
    "# plt.show()\n",
    "\n",
    "axs[1].plot(np.diff(moving_average(np.diff(moving_average(z_data, 10)), 10)))\n",
    "# plt.ylabel('Deformation')\n",
    "plt.show()\n",
    "\n",
    "plt.plot(data['F_z'].to_numpy())\n",
    "plt.ylabel('Force')\n",
    "plt.show()\n",
    "plt.plot(data['F_z'].to_numpy() / data['Z2'].to_numpy())\n",
    "plt.ylabel('Measurement')\n",
    "plt.show()\n",
    "plt.plot(z_data, data['F_z'])\n",
    "plt.xlabel('Deformation')\n",
    "plt.ylabel('Force')\n",
    "plt.show()\n",
    "\n",
    "plt.plot(differential)\n",
    "plt.show()\n",
    "\n",
    "plt.scatter(range(len(measurements)), measurements, c=c, s=1)\n",
    "plt.ylabel('Measurement (Z2)')\n",
    "# plt.ylabel('Force')\n",
    "plt.show()\n",
    "\n",
    "plt.scatter(range(len(output)), output,  c=c, s=1)\n",
    "plt.ylabel('Force')\n",
    "plt.show()"
   ]
  },
  {
   "cell_type": "code",
   "execution_count": null,
   "metadata": {},
   "outputs": [],
   "source": [
    "def calculate_corrected_data(params):\n",
    "\n",
    "  a, b, c, d = params\n",
    "\n",
    "  pos_weights = np.linspace(a, b, len(measurements))\n",
    "  neg_weights = np.linspace(c, d, len(measurements))\n",
    "\n",
    "  corrected_measurements = np.zeros(len(measurements))\n",
    "\n",
    "  for i in range(1, len(measurements)):\n",
    "    if mask[i]:\n",
    "      corrected_measurements[i] = corrected_measurements[i - 1] + differential[i] * pos_weights[i]\n",
    "    else:\n",
    "      corrected_measurements[i] = corrected_measurements[i - 1] + differential[i] * neg_weights[i]\n",
    "      \n",
    "  return corrected_measurements"
   ]
  },
  {
   "cell_type": "code",
   "execution_count": null,
   "metadata": {},
   "outputs": [],
   "source": [
    "a = np.linspace(13, 14.5, 10)\n",
    "b = np.linspace(4, 6, 10)\n",
    "c = np.linspace(17, 20, 10)\n",
    "d = np.linspace(20, 100, 10)\n",
    "\n",
    "MSEs = []\n",
    "best_params = []\n",
    "best_MSE = 999999999\n",
    "\n",
    "for i in range(len(a)):\n",
    "  for j in range(len(b)):\n",
    "    for k in range(len(c)):\n",
    "      for l in range(len(d)):\n",
    "        corrected_measurements = calculate_corrected_data([a[i], b[j], c[k], d[l]])\n",
    "        \n",
    "        MSE = np.mean((corrected_measurements - output) ** 2)\n",
    "        MSEs.append(MSE)\n",
    "        \n",
    "        if MSE < best_MSE:\n",
    "          best_params = [a[i], b[j], c[k], d[l]]\n",
    "          best_MSE = MSE\n",
    "          \n",
    "      else:\n",
    "        continue\n",
    "      break\n",
    "    else:\n",
    "      continue\n",
    "    break\n",
    "  else:\n",
    "    continue\n",
    "  break"
   ]
  },
  {
   "cell_type": "code",
   "execution_count": null,
   "metadata": {},
   "outputs": [],
   "source": [
    "print(best_params)\n",
    "plt.plot(MSEs)\n",
    "plt.show()\n",
    "\n",
    "corrected_measurements = calculate_corrected_data(best_params)\n",
    "plt.plot(output)\n",
    "plt.plot(corrected_measurements)"
   ]
  },
  {
   "cell_type": "code",
   "execution_count": null,
   "metadata": {},
   "outputs": [],
   "source": []
  },
  {
   "cell_type": "code",
   "execution_count": null,
   "metadata": {},
   "outputs": [],
   "source": []
  },
  {
   "cell_type": "code",
   "execution_count": null,
   "metadata": {},
   "outputs": [],
   "source": []
  },
  {
   "cell_type": "code",
   "execution_count": null,
   "metadata": {},
   "outputs": [],
   "source": [
    "class Hysteron:\n",
    "  \n",
    "  def __init__(self, alpha, beta): # beta > alpha\n",
    "    self.alpha = alpha\n",
    "    self.beta = beta\n",
    "    self.state = 0\n",
    "    \n",
    "  def update(self, measurement):\n",
    "    \n",
    "    if measurement > self.beta:\n",
    "      self.state = 1\n",
    "    elif measurement < self.alpha:\n",
    "      self.state = 0\n",
    "    \n",
    "    return self.state\n",
    "    "
   ]
  },
  {
   "cell_type": "code",
   "execution_count": null,
   "metadata": {},
   "outputs": [],
   "source": [
    "# Make hysterons with beta - alpha = step from 0 to 1 \n",
    "step = 0.01\n",
    "\n",
    "hysterons = []\n",
    "for alpha in np.linspace(0, 1 - step, int(1/step)):\n",
    "  for beta in np.linspace(alpha + step, 1, int(1/step)):\n",
    "    hysterons.append(Hysteron(alpha, beta))\n",
    "\n",
    "# Now plot the \n",
    "\n",
    "weights = np.linspace(0.9, 1.1, len(hysterons))\n",
    "weights /= np.sum(weights)\n",
    "\n",
    "X = np.sin(np.linspace(0, np.pi, 100))\n",
    "y = np.zeros(100)\n",
    "\n",
    "c = ['b' for i in range(50)] + ['r' for i in range(50)]\n",
    "\n",
    "for i in range(len(X)):\n",
    "  tmp = 0\n",
    "  for j, hys in enumerate(hysterons):\n",
    "    tmp += hys.update(X[i]) * weights[j]\n",
    "    \n",
    "  y[i] = tmp\n",
    "  \n",
    "plt.scatter(X, y, s=1,c=c)\n",
    "  "
   ]
  },
  {
   "cell_type": "code",
   "execution_count": null,
   "metadata": {},
   "outputs": [],
   "source": []
  },
  {
   "cell_type": "code",
   "execution_count": null,
   "metadata": {},
   "outputs": [],
   "source": []
  },
  {
   "cell_type": "code",
   "execution_count": null,
   "metadata": {},
   "outputs": [],
   "source": []
  },
  {
   "cell_type": "code",
   "execution_count": null,
   "metadata": {},
   "outputs": [],
   "source": []
  },
  {
   "cell_type": "code",
   "execution_count": null,
   "metadata": {},
   "outputs": [],
   "source": []
  },
  {
   "cell_type": "code",
   "execution_count": null,
   "metadata": {},
   "outputs": [],
   "source": []
  },
  {
   "cell_type": "code",
   "execution_count": null,
   "metadata": {},
   "outputs": [],
   "source": [
    "import hysteresis as hys\n",
    "\n",
    "xy = np.column_stack([data['Z2'], data['F_z']])\n",
    "\n",
    "myHys = hys.Hysteresis(xy)\n",
    "myHys.plot(showReversals = True)"
   ]
  },
  {
   "cell_type": "code",
   "execution_count": null,
   "metadata": {},
   "outputs": [],
   "source": [
    "dataset = regions_data[0][['Z2', 'F_z']][min_index:max_index].copy()\n",
    "\n",
    "# split into train and test sets\n",
    "train_size = int(len(dataset) * 0.7)\n",
    "test_size = len(dataset) - train_size\n",
    "train, test = dataset[0:train_size], dataset[train_size:len(dataset)]\n",
    "\n",
    "print(train.shape, test.shape)\n",
    "\n",
    "plt.plot(train['Z2'], train['F_z'])\n",
    "plt.plot(test['Z2'], test['F_z'])"
   ]
  },
  {
   "cell_type": "code",
   "execution_count": null,
   "metadata": {},
   "outputs": [],
   "source": [
    "# Split the data\n",
    "def create_dataset(dataset, nr_steps):\n",
    "    dataX, dataY = [], []\n",
    "    for i in range(dataset.shape[0] - nr_steps - 1):\n",
    "        a = dataset[i:(i + nr_steps), 0]\n",
    "        dataX.append(a)\n",
    "        dataY.append(dataset[i + nr_steps, 1])\n",
    "    return np.array(dataX), np.array(dataY)\n",
    "\n",
    "n_steps = 50\n",
    "features = 1\n",
    "\n",
    "# split into samples\n",
    "X_train, y_train = create_dataset(train.to_numpy(), n_steps)\n",
    "X_test, y_test = create_dataset(test.to_numpy(), n_steps)\n",
    "\n",
    "X_train = np.reshape(X_train, (X_train.shape[0], 1, X_train.shape[1]))\n",
    "X_test = np.reshape(X_test, (X_test.shape[0], 1, X_test.shape[1]))\n",
    "\n",
    "print(X_train.shape, y_train.shape)\n",
    "print(X_test.shape, y_test.shape)"
   ]
  },
  {
   "cell_type": "markdown",
   "metadata": {},
   "source": [
    "Building an RNN"
   ]
  },
  {
   "cell_type": "code",
   "execution_count": null,
   "metadata": {},
   "outputs": [],
   "source": [
    "import numpy as np\n",
    "from keras.models import Sequential\n",
    "from keras.layers import LSTM, Dense\n",
    "from sklearn.metrics import mean_squared_error\n",
    "from keras.losses import MeanSquaredError\n",
    "from keras.optimizers import Adam\n",
    "\n",
    "# Define LSTM model\n",
    "model = Sequential()\n",
    "# model.add(LSTM(64, return_sequences=True))  \n",
    "model.add(LSTM(16))  \n",
    "model.add(Dense(1, activation='relu'))\n",
    "# model.compile(loss='binary_crossentropy', optimizer='adam', metrics=['accuracy'])\n",
    "model.compile(optimizer=Adam(0.01), loss=MeanSquaredError(), metrics=['accuracy'])\n",
    "\n",
    "\n",
    "# Train the model\n",
    "model.fit(X_train, y_train, epochs=50, batch_size=16)"
   ]
  },
  {
   "cell_type": "code",
   "execution_count": null,
   "metadata": {},
   "outputs": [],
   "source": [
    "\n",
    "# make predictions\n",
    "trainPredict = model.predict(np.linspace(0, 0.6, 100).reshape(-1, 1, 1))\n",
    "testPredict = model.predict(X_test)\n",
    "\n",
    "print(trainPredict.shape)\n",
    "print(testPredict.shape)\n",
    "\n",
    "print(y_train.shape)\n",
    "print(y_test.shape)\n",
    "\n",
    "# calculate root mean squared error\n",
    "trainScore = np.sqrt(mean_squared_error(y_train, trainPredict[:,0]))\n",
    "print('Train Score: %.2f RMSE' % (trainScore))\n",
    "testScore = np.sqrt(mean_squared_error(y_test, testPredict[:,0]))\n",
    "print('Test Score: %.2f RMSE' % (testScore))"
   ]
  },
  {
   "cell_type": "code",
   "execution_count": null,
   "metadata": {},
   "outputs": [],
   "source": [
    "# shift train predictions for plotting\n",
    "trainPredictPlot = np.empty_like(dataset)\n",
    "trainPredictPlot[:, :] = np.nan\n",
    "trainPredictPlot[n_steps:len(trainPredict)+n_steps, :] = trainPredict\n",
    "# shift test predictions for plotting\n",
    "testPredictPlot = np.empty_like(dataset)\n",
    "testPredictPlot[:, :] = np.nan\n",
    "testPredictPlot[len(trainPredict)+(n_steps*2)+1:len(dataset)-1, :] = testPredict\n",
    "\n",
    "# plot baseline and predictions\n",
    "plt.plot(dataset['Z2'], dataset['F_z'])\n",
    "plt.plot(dataset['Z2'],trainPredictPlot)\n",
    "plt.plot(dataset['Z2'],testPredictPlot)\n",
    "# plt.plot(testPredictPlot)\n",
    "plt.show()\n",
    "\n",
    "plt.plot(dataset['F_z'])\n",
    "plt.plot(trainPredictPlot)\n",
    "plt.plot(testPredictPlot)"
   ]
  },
  {
   "cell_type": "code",
   "execution_count": null,
   "metadata": {},
   "outputs": [],
   "source": []
  },
  {
   "cell_type": "code",
   "execution_count": null,
   "metadata": {},
   "outputs": [],
   "source": []
  },
  {
   "cell_type": "markdown",
   "metadata": {},
   "source": [
    "# Validation"
   ]
  },
  {
   "cell_type": "code",
   "execution_count": null,
   "metadata": {},
   "outputs": [],
   "source": [
    "# Validate against the subsampled version\n",
    "# Load in data file and prepare for val\n",
    "normal_force_df_val = cf.prepare_data_for_fitting(f\"table_calibration/2x2_grid_subsampling_x2_08032024_schroef2\", ARRAY_SIZE, SENSOR_LAG)\n",
    "normal_force_df_val.info()"
   ]
  },
  {
   "cell_type": "code",
   "execution_count": null,
   "metadata": {},
   "outputs": [],
   "source": [
    "combined_model = reg.CombinedModel([normal_force_models_taxels[i] for i in [3, 2, 0, 1]])"
   ]
  },
  {
   "cell_type": "code",
   "execution_count": null,
   "metadata": {},
   "outputs": [],
   "source": [
    "# Predict F_z{i} based on measurements\n",
    "X = normal_force_df_val[[f'Z{i}' for i in range(ARRAY_SIZE)]].to_numpy()\n",
    "F_zi = combined_model.predict(X)\n",
    "for i in range(4):\n",
    "  plt.plot(normal_force_df_val[f'F_z'])\n",
    "  plt.plot(F_zi[:, i])\n",
    "  plt.show()"
   ]
  },
  {
   "cell_type": "code",
   "execution_count": null,
   "metadata": {},
   "outputs": [],
   "source": [
    "# Try to add them all up\n",
    "plt.plot(normal_force_df_val['F_z'])\n",
    "plt.plot(np.sum(F_zi, axis=1))\n"
   ]
  },
  {
   "cell_type": "code",
   "execution_count": null,
   "metadata": {},
   "outputs": [],
   "source": [
    "# Check the distribution of all touch points F_z values\n",
    "F_z_pred = np.sum(F_zi, axis=1)\n",
    "F_z_virt = []\n",
    "\n",
    "print(F_zi.shape)\n",
    "print(F_z_pred.shape)\n",
    "\n",
    "for i in range(ARRAY_SIZE):\n",
    "  F_z_virt.append(F_zi[:, i] / F_z_pred)\n",
    "  \n",
    "for v in F_z_virt:\n",
    "  print(v.shape)\n",
    "  plt.plot(v[3000:])\n",
    "  # plt.ylim(0, 1)\n",
    "  plt.show()\n"
   ]
  },
  {
   "cell_type": "code",
   "execution_count": null,
   "metadata": {},
   "outputs": [],
   "source": [
    "# Create a model that predicts the virtual taxels based on multi-taxel force models\n"
   ]
  }
 ],
 "metadata": {
  "kernelspec": {
   "display_name": "Python 3",
   "language": "python",
   "name": "python3"
  },
  "language_info": {
   "codemirror_mode": {
    "name": "ipython",
    "version": 3
   },
   "file_extension": ".py",
   "mimetype": "text/x-python",
   "name": "python",
   "nbconvert_exporter": "python",
   "pygments_lexer": "ipython3",
   "version": "3.10.12"
  }
 },
 "nbformat": 4,
 "nbformat_minor": 2
}
