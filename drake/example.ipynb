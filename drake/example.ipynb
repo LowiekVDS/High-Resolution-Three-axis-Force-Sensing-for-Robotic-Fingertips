{
 "cells": [
  {
   "cell_type": "code",
   "execution_count": null,
   "metadata": {},
   "outputs": [],
   "source": [
    "import numpy as np\n",
    "import airo_models\n",
    "from pydrake.common import temp_directory\n",
    "from pydrake.geometry import StartMeshcat\n",
    "from pydrake.math import RigidTransform, RollPitchYaw\n",
    "from pydrake.multibody.parsing import Parser\n",
    "from pydrake.multibody.plant import AddMultibodyPlantSceneGraph\n",
    "from pydrake.systems.analysis import Simulator\n",
    "from pydrake.systems.framework import DiagramBuilder\n",
    "from pydrake.visualization import AddDefaultVisualization, ModelVisualizer\n",
    "from pydrake.planning import RobotDiagramBuilder, SceneGraphCollisionChecker"
   ]
  },
  {
   "cell_type": "code",
   "execution_count": null,
   "metadata": {},
   "outputs": [],
   "source": [
    "def AddPlanarBinAndSimpleBox(plant, mass=0.411, mu=1.0, width=0.2, depth=0.05, height=0.3):\n",
    "    parser = Parser(plant)\n",
    "    bin = parser.AddModelFromFile(FindResource(\"models/planar_bin.sdf\"))\n",
    "    plant.WeldFrames(plant.world_frame(),\n",
    "                     plant.GetFrameByName(\"bin_base\", bin),\n",
    "                     RigidTransform(RotationMatrix.MakeZRotation(np.pi / 2.0),\n",
    "                                    [0, 0, -0.035]))\n",
    "\n",
    "    planar_joint_frame = plant.AddFrame(\n",
    "        FixedOffsetFrame(\n",
    "            \"planar_joint_frame\", plant.world_frame(),\n",
    "            RigidTransform(RotationMatrix.MakeXRotation(np.pi / 2))))\n",
    "    box_instance = AddShape(plant, Box(width, depth, height), \"box\", mass, mu)\n",
    "    box_joint = plant.AddJoint(PlanarJoint(\n",
    "        \"box_joint\", planar_joint_frame,\n",
    "        plant.GetFrameByName(\"box\", box_instance)))\n",
    "    box_joint.set_default_translation([0, height/2.0])\n",
    "    return box_instance"
   ]
  }
 ],
 "metadata": {
  "language_info": {
   "name": "python"
  }
 },
 "nbformat": 4,
 "nbformat_minor": 2
}
