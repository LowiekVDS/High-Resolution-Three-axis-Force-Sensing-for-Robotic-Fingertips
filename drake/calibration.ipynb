{
 "cells": [
  {
   "cell_type": "code",
   "execution_count": 1,
   "metadata": {},
   "outputs": [],
   "source": [
    "%load_ext autoreload\n",
    "%autoreload 2"
   ]
  },
  {
   "cell_type": "code",
   "execution_count": 1,
   "metadata": {},
   "outputs": [],
   "source": [
    "import numpy as np\n",
    "import airo_models\n",
    "from pydrake.common import temp_directory\n",
    "from pydrake.geometry import StartMeshcat\n",
    "from pydrake.math import RigidTransform, RollPitchYaw\n",
    "from pydrake.multibody.parsing import Parser\n",
    "from pydrake.multibody.plant import AddMultibodyPlantSceneGraph\n",
    "from pydrake.systems.analysis import Simulator\n",
    "from pydrake.geometry import MeshcatVisualizer\n",
    "from pydrake.planning import RobotDiagramBuilder, SceneGraphCollisionChecker\n",
    "from tools.visualization import add_meshcat_triad\n",
    "from tools.scenes import *\n",
    "from tools.building import *\n",
    "from typing import Optional, Tuple\n",
    "\n",
    "from pydrake.geometry import Meshcat, MeshcatVisualizer, MeshcatVisualizerParams, Role\n",
    "from pydrake.planning import RobotDiagram, RobotDiagramBuilder\n",
    "from pydrake.systems.framework import Context\n",
    "from pydrake.visualization import ApplyVisualizationConfig, VisualizationConfig"
   ]
  },
  {
   "cell_type": "code",
   "execution_count": 2,
   "metadata": {},
   "outputs": [
    {
     "name": "stderr",
     "output_type": "stream",
     "text": [
      "INFO:drake:Meshcat listening for connections at http://localhost:7000\n",
      "WARNING:drake:Warning parsing file '/home/lowiek/masters-thesis/drake/tools/urdf/probe.obj' : Material file [ probe.mtl ] not found in a path : /home/lowiek/masters-thesis/drake/tools/urdf/\n",
      "Failed to load material file(s). Use default material.\n",
      "material [ 'probeMaterial0' ] not found in .mtl\n",
      "\n",
      "WARNING:drake:Meshcat: Failed to load texture. /home/lowiek/masters-thesis/drake/tools/urdf/probe.obj references probe.mtl, but Meshcat could not open filename \"/home/lowiek/masters-thesis/drake/tools/urdf/probe.mtl\"\n",
      "WARNING:drake:Meshcat: Failed to load texture. /home/lowiek/masters-thesis/drake/tools/urdf/probe.obj references probe.mtl, but Meshcat could not open filename \"/home/lowiek/masters-thesis/drake/tools/urdf/probe.mtl\"\n",
      "WARNING:drake:Meshcat: Failed to load texture. /home/lowiek/masters-thesis/drake/tools/urdf/probe.obj references probe.mtl, but Meshcat could not open filename \"/home/lowiek/masters-thesis/drake/tools/urdf/probe.mtl\"\n",
      "WARNING:drake:Meshcat: Failed to load texture. /home/lowiek/masters-thesis/drake/tools/urdf/probe.obj references probe.mtl, but Meshcat could not open filename \"/home/lowiek/masters-thesis/drake/tools/urdf/probe.mtl\"\n",
      "INFO:drake:Allocating contexts to support implicit context parallelism 12\n"
     ]
    }
   ],
   "source": [
    "#\n",
    "# Setup initial robot diagram\n",
    "#\n",
    "\n",
    "robot_diagram_builder = RobotDiagramBuilder()\n",
    "scene_graph = robot_diagram_builder.scene_graph()\n",
    "builder = robot_diagram_builder.builder()\n",
    "\n",
    "# Adding Meshcat must also be done before finalizing\n",
    "meshcat = Meshcat()\n",
    "meshcat.SetCameraPose([-2.0, 0, 1.0], [0, 0, 0])\n",
    "MeshcatVisualizer.AddToBuilder(builder, scene_graph, meshcat)\n",
    "\n",
    "# Add visualizer for proximity/collision geometry\n",
    "collision_params = MeshcatVisualizerParams(role=Role.kProximity, prefix=\"collision\", visible_by_default=False)\n",
    "MeshcatVisualizer.AddToBuilder(builder, scene_graph.get_query_output_port(), meshcat, collision_params)\n",
    "\n",
    "# Add robot to builder\n",
    "arm_index = add_ur3e_and_table_to_builder(robot_diagram_builder)\n",
    "tool_index = add_probe_tool_to_builder(robot_diagram_builder, arm_index)\n",
    "\n",
    "# Finalize build\n",
    "diagram, context = finish_build(robot_diagram_builder, meshcat)\n",
    "plant = diagram.plant()\n",
    "plant_context = plant.GetMyContextFromRoot(context)\n",
    "\n",
    "collision_checker = SceneGraphCollisionChecker(\n",
    "    model=diagram,\n",
    "    robot_model_instances=[arm_index, tool_index],\n",
    "    edge_step_size=0.125,  # Arbitrary value: we don't use the CheckEdgeCollisionFree\n",
    "    env_collision_padding=0.005,\n",
    "    self_collision_padding=0.005,\n",
    ")\n"
   ]
  },
  {
   "cell_type": "code",
   "execution_count": 3,
   "metadata": {},
   "outputs": [],
   "source": [
    "#\n",
    "# Setup initial pose and planner\n",
    "#\n",
    "\n",
    "start_joints = np.deg2rad([0, -90, -90, -90, 90, 0])\n",
    "plant.SetPositions(plant_context, arm_index, start_joints)\n",
    "diagram.ForcedPublish(context)\n",
    "\n",
    "add_meshcat_triad(meshcat, \"World\", X_W_Triad=RigidTransform(p=[0, 0, 0], rpy=RollPitchYaw([0, 0, 0])))\n",
    "\n",
    "# Planner setup\n",
    "from ur_analytic_ik import ur3e, ur5e\n",
    "from tools.ompl.single_arm_planner import SingleArmOmplPlanner\n",
    "from tools.visualization import publish_joint_path\n",
    "\n",
    "tcp_transform = np.identity(4)\n",
    "tcp_transform[2, 3] += 0.03\n",
    "\n",
    "def inverse_kinematics_fn(tcp_pose):\n",
    "    solutions_1x6 = ur5e.inverse_kinematics_with_tcp(np.ascontiguousarray(tcp_pose), tcp_transform)\n",
    "    solutions = [solution.squeeze() for solution in solutions_1x6]\n",
    "    return solutions\n",
    "\n",
    "planner = SingleArmOmplPlanner(collision_checker.CheckConfigCollisionFree, inverse_kinematics_fn)"
   ]
  },
  {
   "cell_type": "code",
   "execution_count": 4,
   "metadata": {},
   "outputs": [
    {
     "name": "stderr",
     "output_type": "stream",
     "text": [
      "WARNING:drake:Currently MultibodyPlant does not handle joint limits for continuous models. However some joints do specify limits. Consider setting a non-zero time step in the MultibodyPlant constructor; this will put the plant in discrete-time mode, which does support joint limits. Joints that specify limits are: 'shoulder_pan_joint', 'shoulder_lift_joint', 'elbow_joint', 'wrist_1_joint', 'wrist_2_joint', 'wrist_3_joint'\n"
     ]
    },
    {
     "name": "stdout",
     "output_type": "stream",
     "text": [
      "[0. 0. 0. 0. 0. 0.]\n"
     ]
    }
   ],
   "source": [
    "#\n",
    "# Class used to interface with robot\n",
    "# \n",
    "\n",
    "from tools.interfaces.drake_robot import DrakeRobot\n",
    "            \n",
    "robot = DrakeRobot(diagram, context, arm_index, meshcat)\n",
    "robot.zeroTFSensor()\n",
    "\n",
    "print(robot.getTFValue())"
   ]
  },
  {
   "cell_type": "code",
   "execution_count": 5,
   "metadata": {},
   "outputs": [
    {
     "name": "stderr",
     "output_type": "stream",
     "text": [
      "\u001b[32m2024-02-29 12:02:40.970\u001b[0m | \u001b[1mINFO    \u001b[0m | \u001b[36mtools.ompl.single_arm_planner\u001b[0m:\u001b[36mplan_to_tcp_pose\u001b[0m:\u001b[36m156\u001b[0m - \u001b[1mIK returned 8 solutions.\u001b[0m\n",
      "\u001b[32m2024-02-29 12:02:40.971\u001b[0m | \u001b[1mINFO    \u001b[0m | \u001b[36mtools.ompl.single_arm_planner\u001b[0m:\u001b[36mplan_to_tcp_pose\u001b[0m:\u001b[36m167\u001b[0m - \u001b[1mFound 8/8 solutions within joint bounds.\u001b[0m\n",
      "\u001b[32m2024-02-29 12:02:40.974\u001b[0m | \u001b[1mINFO    \u001b[0m | \u001b[36mtools.ompl.single_arm_planner\u001b[0m:\u001b[36mplan_to_tcp_pose\u001b[0m:\u001b[36m174\u001b[0m - \u001b[1mFound 6/8 valid solutions.\u001b[0m\n"
     ]
    },
    {
     "name": "stdout",
     "output_type": "stream",
     "text": [
      "[[-6.1232340e-17 -1.0000000e+00  2.4492936e-16  2.9860000e-01]\n",
      " [-1.0000000e+00  6.1232340e-17 -1.2246468e-16 -1.1235000e-01]\n",
      " [ 1.2246468e-16 -2.4492936e-16 -1.0000000e+00  3.1365000e-01]\n",
      " [ 0.0000000e+00  0.0000000e+00  0.0000000e+00  1.0000000e+00]]\n",
      "Debug:   RRTConnect: Planner range detected to be 6.156239\n",
      "Info:    RRTConnect: Starting planning with 1 states already in datastructure\n",
      "Info:    RRTConnect: Created 4 states (2 start + 2 goal)\n",
      "Info:    Solution found in 0.027601 seconds\n",
      "Info:    SimpleSetup: Path simplification took 0.115290 seconds and changed from 3 to 2 states\n",
      "Info:    SimpleSetup: Path simplification took 0.000001 seconds and changed from 2 to 2 states\n",
      "Info:    RRTConnect: Starting planning with 1 states already in datastructure\n",
      "Info:    RRTConnect: Created 5 states (3 start + 2 goal)\n",
      "Info:    Solution found in 0.053877 seconds\n",
      "Info:    SimpleSetup: Path simplification took 0.172067 seconds and changed from 4 to 2 states\n",
      "Info:    SimpleSetup: Path simplification took 0.000001 seconds and changed from 2 to 2 states\n",
      "Info:    RRTConnect: Starting planning with 1 states already in datastructure\n",
      "Info:    RRTConnect: Created 5 states (3 start + 2 goal)\n",
      "Info:    Solution found in 0.051909 seconds\n",
      "Info:    SimpleSetup: Path simplification took 0.416978 seconds and changed from 4 to 2 states\n",
      "Info:    SimpleSetup: Path simplification took 0.000002 seconds and changed from 2 to 2 states\n"
     ]
    },
    {
     "name": "stderr",
     "output_type": "stream",
     "text": [
      "\u001b[32m2024-02-29 12:02:47.188\u001b[0m | \u001b[1mINFO    \u001b[0m | \u001b[36mtools.ompl.single_arm_planner\u001b[0m:\u001b[36mplan_to_tcp_pose\u001b[0m:\u001b[36m203\u001b[0m - \u001b[1mFound 5 paths towards IK solutions:\u001b[0m\n",
      "\u001b[32m2024-02-29 12:02:47.189\u001b[0m | \u001b[1mINFO    \u001b[0m | \u001b[36mtools.ompl.single_arm_planner\u001b[0m:\u001b[36mplan_to_tcp_pose\u001b[0m:\u001b[36m204\u001b[0m - \u001b[1mPath lengths: [5.56, 5.552, 4.894, 0.781, 5.629]\u001b[0m\n",
      "\u001b[32m2024-02-29 12:02:47.189\u001b[0m | \u001b[1mINFO    \u001b[0m | \u001b[36mtools.ompl.single_arm_planner\u001b[0m:\u001b[36mplan_to_tcp_pose\u001b[0m:\u001b[36m205\u001b[0m - \u001b[1mPath distances: [5.56, 5.552, 4.894, 0.781, 5.629]\u001b[0m\n",
      "\u001b[32m2024-02-29 12:02:47.190\u001b[0m | \u001b[1mINFO    \u001b[0m | \u001b[36mtools.ompl.single_arm_planner\u001b[0m:\u001b[36mplan_to_tcp_pose\u001b[0m:\u001b[36m220\u001b[0m - \u001b[1mLength of chosen solution (= shortest path): 0.781\u001b[0m\n"
     ]
    },
    {
     "name": "stdout",
     "output_type": "stream",
     "text": [
      "Info:    RRTConnect: Starting planning with 1 states already in datastructure\n",
      "Info:    RRTConnect: Created 173 states (83 start + 90 goal)\n",
      "Info:    ProblemDefinition: Adding approximate solution from planner RRTConnect\n",
      "Info:    Solution found in 5.016751 seconds\n",
      "Info:    RRTConnect: Starting planning with 1 states already in datastructure\n",
      "Info:    RRTConnect: Created 4 states (2 start + 2 goal)\n",
      "Info:    Solution found in 0.037437 seconds\n",
      "Info:    SimpleSetup: Path simplification took 0.099314 seconds and changed from 3 to 2 states\n",
      "Info:    SimpleSetup: Path simplification took 0.000001 seconds and changed from 2 to 2 states\n",
      "Info:    RRTConnect: Starting planning with 1 states already in datastructure\n",
      "Info:    RRTConnect: Created 5 states (3 start + 2 goal)\n",
      "Info:    Solution found in 0.043534 seconds\n",
      "Info:    SimpleSetup: Path simplification took 0.159251 seconds and changed from 4 to 2 states\n",
      "Info:    SimpleSetup: Path simplification took 0.000001 seconds and changed from 2 to 2 states\n",
      "[[-6.1232340e-17 -1.0000000e+00  2.4492936e-16  3.4860000e-01]\n",
      " [-1.0000000e+00  6.1232340e-17 -1.2246468e-16 -1.1235000e-01]\n",
      " [ 1.2246468e-16 -2.4492936e-16 -1.0000000e+00  3.1365000e-01]\n",
      " [ 0.0000000e+00  0.0000000e+00  0.0000000e+00  1.0000000e+00]]\n"
     ]
    }
   ],
   "source": [
    "#\n",
    "# Controller\n",
    "#\n",
    "\n",
    "from tools.controllers.calibration import CalibrationController\n",
    "from tools.visualization import *\n",
    "\n",
    "controller = CalibrationController(robot, planner)\n",
    "\n",
    "joint_t, time_t, transform = controller.translate_probe([0.05, 0, 0])\n",
    "print(transform)\n",
    "\n",
    "publish_ik_solutions(planner._ik_solutions, 3, meshcat, diagram, context, arm_index)\n",
    "\n",
    "add_meshcat_triad(meshcat, \"TCP Frame\", X_W_Triad=RigidTransform(transform))"
   ]
  },
  {
   "cell_type": "code",
   "execution_count": 6,
   "metadata": {},
   "outputs": [
    {
     "name": "stdout",
     "output_type": "stream",
     "text": [
      "[[-1.24900090e-16 -1.00000000e+00 -1.10089842e-15  2.19159629e-01]\n",
      " [-1.00000000e+00  1.31838984e-16 -1.85772707e-16 -9.92317674e-02]\n",
      " [ 1.85903902e-16  1.03962435e-15 -1.00000000e+00  2.34615707e-01]\n",
      " [ 0.00000000e+00  0.00000000e+00  0.00000000e+00  1.00000000e+00]]\n"
     ]
    }
   ],
   "source": [
    "robot.publish_trajectory(joint_t, time_t)\n",
    "print(robot.getTCPPose()[1])"
   ]
  },
  {
   "cell_type": "code",
   "execution_count": null,
   "metadata": {},
   "outputs": [],
   "source": []
  }
 ],
 "metadata": {
  "kernelspec": {
   "display_name": "Python 3",
   "language": "python",
   "name": "python3"
  },
  "language_info": {
   "codemirror_mode": {
    "name": "ipython",
    "version": 3
   },
   "file_extension": ".py",
   "mimetype": "text/x-python",
   "name": "python",
   "nbconvert_exporter": "python",
   "pygments_lexer": "ipython3",
   "version": "3.10.12"
  }
 },
 "nbformat": 4,
 "nbformat_minor": 2
}
