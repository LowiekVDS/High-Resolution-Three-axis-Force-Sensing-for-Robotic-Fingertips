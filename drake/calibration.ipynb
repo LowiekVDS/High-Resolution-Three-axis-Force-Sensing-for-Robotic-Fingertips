{
 "cells": [
  {
   "cell_type": "code",
   "execution_count": 1,
   "metadata": {},
   "outputs": [],
   "source": [
    "import numpy as np\n",
    "import airo_models\n",
    "from pydrake.common import temp_directory\n",
    "from pydrake.geometry import StartMeshcat\n",
    "from pydrake.math import RigidTransform, RollPitchYaw\n",
    "from pydrake.multibody.parsing import Parser\n",
    "from pydrake.multibody.plant import AddMultibodyPlantSceneGraph\n",
    "from pydrake.systems.analysis import Simulator\n",
    "from pydrake.geometry import MeshcatVisualizer\n",
    "from pydrake.planning import RobotDiagramBuilder, SceneGraphCollisionChecker\n",
    "from tools.visualization import add_meshcat_triad\n",
    "from tools.scenes import *\n",
    "from tools.building import *\n",
    "from typing import Optional, Tuple\n",
    "\n",
    "from pydrake.geometry import Meshcat, MeshcatVisualizer, MeshcatVisualizerParams, Role\n",
    "from pydrake.planning import RobotDiagram, RobotDiagramBuilder\n",
    "from pydrake.systems.framework import Context\n",
    "from pydrake.visualization import ApplyVisualizationConfig, VisualizationConfig"
   ]
  },
  {
   "cell_type": "code",
   "execution_count": 2,
   "metadata": {},
   "outputs": [
    {
     "name": "stderr",
     "output_type": "stream",
     "text": [
      "INFO:drake:Meshcat listening for connections at http://localhost:7000\n"
     ]
    },
    {
     "data": {
      "text/plain": [
       "<pydrake.geometry.MeshcatVisualizer at 0x7fefc3fa2db0>"
      ]
     },
     "execution_count": 2,
     "metadata": {},
     "output_type": "execute_result"
    }
   ],
   "source": [
    "#\n",
    "# Setup initial robot diagram\n",
    "#\n",
    "\n",
    "robot_diagram_builder = RobotDiagramBuilder()\n",
    "scene_graph = robot_diagram_builder.scene_graph()\n",
    "builder = robot_diagram_builder.builder()\n",
    "\n",
    "# Adding Meshcat must also be done before finalizing\n",
    "meshcat = Meshcat()\n",
    "meshcat.SetCameraPose([-2.0, 0, 1.0], [0, 0, 0])\n",
    "MeshcatVisualizer.AddToBuilder(builder, scene_graph, meshcat)\n",
    "\n",
    "# Add visualizer for proximity/collision geometry\n",
    "collision_params = MeshcatVisualizerParams(role=Role.kProximity, prefix=\"collision\", visible_by_default=False)\n",
    "MeshcatVisualizer.AddToBuilder(builder, scene_graph.get_query_output_port(), meshcat, collision_params)"
   ]
  },
  {
   "cell_type": "code",
   "execution_count": 3,
   "metadata": {},
   "outputs": [
    {
     "name": "stderr",
     "output_type": "stream",
     "text": [
      "WARNING:drake:Warning parsing file '/home/lowiek/masters-thesis/drake/tools/urdf/probe.obj' : Material file [ probe.mtl ] not found in a path : /home/lowiek/masters-thesis/drake/tools/urdf/\n",
      "Failed to load material file(s). Use default material.\n",
      "material [ 'probeMaterial0' ] not found in .mtl\n",
      "\n"
     ]
    },
    {
     "data": {
      "text/plain": [
       "<WeldJoint name='world_welds_to_base_link' index=12 model_instance=4>"
      ]
     },
     "execution_count": 3,
     "metadata": {},
     "output_type": "execute_result"
    }
   ],
   "source": [
    "#\n",
    "# Setup the plant\n",
    "#\n",
    "\n",
    "meshcat\n",
    "\n",
    "plant = robot_diagram_builder.plant()\n",
    "parser = robot_diagram_builder.parser()\n",
    "parser.SetAutoRenaming(True)\n",
    "\n",
    "# Load URDF files\n",
    "ur5e_urdf_path = airo_models.get_urdf_path(\"ur3e\")\n",
    "probe_tool_path = \"./tools/urdf/probe_tool.urdf\"\n",
    "\n",
    "table_thickness = 0.2\n",
    "table_urdf_path = airo_models.box_urdf_path((2.0, 2.4, table_thickness), \"table\")\n",
    "\n",
    "arm_index = parser.AddModels(ur5e_urdf_path)[0]\n",
    "gripper_index = parser.AddModels(probe_tool_path)[0]\n",
    "table_index = parser.AddModels(table_urdf_path)[0]\n",
    "\n",
    "# Weld some frames together\n",
    "world_frame = plant.world_frame()\n",
    "table_frame = plant.GetFrameByName(\"base_link\", table_index)\n",
    "arm_frame = plant.GetFrameByName(\"base_link\", arm_index)\n",
    "arm_tool_frame = plant.GetFrameByName(\"tool0\", arm_index)\n",
    "gripper_frame = plant.GetFrameByName(\"base_link\", gripper_index)\n",
    "\n",
    "arm_transform = RigidTransform(rpy=RollPitchYaw([0, 0, np.pi]), p=[0, 0, 0])\n",
    "table_transform = RigidTransform(p=[0, 0, -table_thickness / 2])\n",
    "\n",
    "plant.WeldFrames(world_frame, arm_frame, arm_transform)\n",
    "plant.WeldFrames(arm_tool_frame, gripper_frame, X_URTOOL0_ROBOTIQ)\n",
    "plant.WeldFrames(world_frame, table_frame, table_transform)"
   ]
  },
  {
   "cell_type": "code",
   "execution_count": 4,
   "metadata": {},
   "outputs": [
    {
     "name": "stderr",
     "output_type": "stream",
     "text": [
      "WARNING:drake:Meshcat: Failed to load texture. /home/lowiek/masters-thesis/drake/tools/urdf/probe.obj references probe.mtl, but Meshcat could not open filename \"/home/lowiek/masters-thesis/drake/tools/urdf/probe.mtl\"\n",
      "WARNING:drake:Meshcat: Failed to load texture. /home/lowiek/masters-thesis/drake/tools/urdf/probe.obj references probe.mtl, but Meshcat could not open filename \"/home/lowiek/masters-thesis/drake/tools/urdf/probe.mtl\"\n",
      "WARNING:drake:Meshcat: Failed to load texture. /home/lowiek/masters-thesis/drake/tools/urdf/probe.obj references probe.mtl, but Meshcat could not open filename \"/home/lowiek/masters-thesis/drake/tools/urdf/probe.mtl\"\n",
      "WARNING:drake:Meshcat: Failed to load texture. /home/lowiek/masters-thesis/drake/tools/urdf/probe.obj references probe.mtl, but Meshcat could not open filename \"/home/lowiek/masters-thesis/drake/tools/urdf/probe.mtl\"\n",
      "INFO:drake:Allocating contexts to support implicit context parallelism 12\n"
     ]
    }
   ],
   "source": [
    "#\n",
    "# Finalize build\n",
    "#\n",
    "\n",
    "diagram, context = finish_build(robot_diagram_builder, meshcat)\n",
    "plant = diagram.plant()\n",
    "plant_context = plant.GetMyContextFromRoot(context)\n",
    "\n",
    "collision_checker = SceneGraphCollisionChecker(\n",
    "    model=diagram,\n",
    "    robot_model_instances=[arm_index, gripper_index],\n",
    "    edge_step_size=0.125,  # Arbitrary value: we don't use the CheckEdgeCollisionFree\n",
    "    env_collision_padding=0.005,\n",
    "    self_collision_padding=0.005,\n",
    ")"
   ]
  },
  {
   "cell_type": "code",
   "execution_count": 5,
   "metadata": {},
   "outputs": [
    {
     "ename": "ModuleNotFoundError",
     "evalue": "No module named 'ompl'",
     "output_type": "error",
     "traceback": [
      "\u001b[0;31m---------------------------------------------------------------------------\u001b[0m",
      "\u001b[0;31mModuleNotFoundError\u001b[0m                       Traceback (most recent call last)",
      "Cell \u001b[0;32mIn[5], line 13\u001b[0m\n\u001b[1;32m     11\u001b[0m \u001b[38;5;66;03m# Planner setup\u001b[39;00m\n\u001b[1;32m     12\u001b[0m \u001b[38;5;28;01mfrom\u001b[39;00m \u001b[38;5;21;01mur_analytic_ik\u001b[39;00m \u001b[38;5;28;01mimport\u001b[39;00m ur3e\n\u001b[0;32m---> 13\u001b[0m \u001b[38;5;28;01mfrom\u001b[39;00m \u001b[38;5;21;01mtools\u001b[39;00m\u001b[38;5;21;01m.\u001b[39;00m\u001b[38;5;21;01mompl\u001b[39;00m\u001b[38;5;21;01m.\u001b[39;00m\u001b[38;5;21;01msingle_arm_planner\u001b[39;00m \u001b[38;5;28;01mimport\u001b[39;00m SingleArmOmplPlanner\n\u001b[1;32m     14\u001b[0m \u001b[38;5;28;01mfrom\u001b[39;00m \u001b[38;5;21;01mtools\u001b[39;00m\u001b[38;5;21;01m.\u001b[39;00m\u001b[38;5;21;01mvisualization\u001b[39;00m \u001b[38;5;28;01mimport\u001b[39;00m publish_joint_path\n\u001b[1;32m     16\u001b[0m tcp_transform \u001b[38;5;241m=\u001b[39m np\u001b[38;5;241m.\u001b[39midentity(\u001b[38;5;241m4\u001b[39m)\n",
      "File \u001b[0;32m~/masters-thesis/drake/tools/ompl/single_arm_planner.py:5\u001b[0m\n\u001b[1;32m      3\u001b[0m \u001b[38;5;28;01mimport\u001b[39;00m \u001b[38;5;21;01mnumpy\u001b[39;00m \u001b[38;5;28;01mas\u001b[39;00m \u001b[38;5;21;01mnp\u001b[39;00m\n\u001b[1;32m      4\u001b[0m \u001b[38;5;28;01mfrom\u001b[39;00m \u001b[38;5;21;01mairo_typing\u001b[39;00m \u001b[38;5;28;01mimport\u001b[39;00m HomogeneousMatrixType, JointConfigurationType\n\u001b[0;32m----> 5\u001b[0m \u001b[38;5;28;01mfrom\u001b[39;00m \u001b[38;5;21;01mtools\u001b[39;00m\u001b[38;5;21;01m.\u001b[39;00m\u001b[38;5;21;01mompl\u001b[39;00m\u001b[38;5;21;01m.\u001b[39;00m\u001b[38;5;21;01mstate_space\u001b[39;00m \u001b[38;5;28;01mimport\u001b[39;00m function_numpy_to_ompl, numpy_to_ompl_state, ompl_path_to_numpy\n\u001b[1;32m      6\u001b[0m \u001b[38;5;28;01mfrom\u001b[39;00m \u001b[38;5;21;01mtools\u001b[39;00m\u001b[38;5;21;01m.\u001b[39;00m\u001b[38;5;21;01mplanning\u001b[39;00m\u001b[38;5;21;01m.\u001b[39;00m\u001b[38;5;21;01minterfaces\u001b[39;00m \u001b[38;5;28;01mimport\u001b[39;00m SingleArmMotionPlanner\n\u001b[1;32m      7\u001b[0m \u001b[38;5;28;01mfrom\u001b[39;00m \u001b[38;5;21;01mloguru\u001b[39;00m \u001b[38;5;28;01mimport\u001b[39;00m logger\n",
      "File \u001b[0;32m~/masters-thesis/drake/tools/ompl/state_space.py:4\u001b[0m\n\u001b[1;32m      1\u001b[0m \u001b[38;5;28;01mfrom\u001b[39;00m \u001b[38;5;21;01mtyping\u001b[39;00m \u001b[38;5;28;01mimport\u001b[39;00m Callable, List\n\u001b[1;32m      3\u001b[0m \u001b[38;5;28;01mimport\u001b[39;00m \u001b[38;5;21;01mnumpy\u001b[39;00m \u001b[38;5;28;01mas\u001b[39;00m \u001b[38;5;21;01mnp\u001b[39;00m\n\u001b[0;32m----> 4\u001b[0m \u001b[38;5;28;01mfrom\u001b[39;00m \u001b[38;5;21;01mompl\u001b[39;00m \u001b[38;5;28;01mimport\u001b[39;00m base \u001b[38;5;28;01mas\u001b[39;00m ob\n\u001b[1;32m      5\u001b[0m \u001b[38;5;28;01mfrom\u001b[39;00m \u001b[38;5;21;01mompl\u001b[39;00m \u001b[38;5;28;01mimport\u001b[39;00m geometric \u001b[38;5;28;01mas\u001b[39;00m og\n\u001b[1;32m      8\u001b[0m \u001b[38;5;28;01mdef\u001b[39;00m \u001b[38;5;21mompl_state_to_numpy\u001b[39m(state: ob\u001b[38;5;241m.\u001b[39mState, n: \u001b[38;5;28mint\u001b[39m) \u001b[38;5;241m-\u001b[39m\u001b[38;5;241m>\u001b[39m np\u001b[38;5;241m.\u001b[39mndarray:\n",
      "\u001b[0;31mModuleNotFoundError\u001b[0m: No module named 'ompl'"
     ]
    }
   ],
   "source": [
    "#\n",
    "# Setup initial pose and planner\n",
    "#\n",
    "\n",
    "start_joints = np.deg2rad([0, -90, -90, -90, 90, 0])\n",
    "plant.SetPositions(plant_context, arm_index, start_joints)\n",
    "diagram.ForcedPublish(context)\n",
    "\n",
    "add_meshcat_triad(meshcat, \"World\", X_W_Triad=RigidTransform(p=[0, 0, 0], rpy=RollPitchYaw([0, 0, 0])))\n",
    "\n",
    "# Planner setup\n",
    "from ur_analytic_ik import ur3e\n",
    "from tools.ompl.single_arm_planner import SingleArmOmplPlanner\n",
    "from tools.visualization import publish_joint_path\n",
    "\n",
    "tcp_transform = np.identity(4)\n",
    "\n",
    "def inverse_kinematics_fn(tcp_pose):\n",
    "    solutions_1x6 = ur3e.inverse_kinematics_with_tcp(tcp_pose, tcp_transform)\n",
    "    solutions = [solution.squeeze() for solution in solutions_1x6]\n",
    "    return solutions\n",
    "\n",
    "planner = SingleArmOmplPlanner(collision_checker.CheckConfigCollisionFree, inverse_kinematics_fn)"
   ]
  },
  {
   "cell_type": "code",
   "execution_count": null,
   "metadata": {},
   "outputs": [],
   "source": [
    "#\n",
    "# Class used to interface with robot\n",
    "# \n",
    "\n",
    "class RobotInterface\n",
    "\n",
    "    def __init__(self):\n",
    "        self.tf_offset = [0, 0, 0, 0, 0, 0]\n",
    "\n",
    "    def getTCPPose(self):\n",
    "        pass\n",
    "\n",
    "    def getTFValue(self):\n",
    "        pass\n",
    "\n",
    "    def zeroTFSensor(self):\n",
    "        self.tf_offset = self.getTFValue()\n",
    "\n",
    "class DrakeRobot(RobotInterface):\n"
   ]
  },
  {
   "cell_type": "code",
   "execution_count": null,
   "metadata": {},
   "outputs": [],
   "source": [
    "#\n",
    "# List of functions to help plan stuff\n",
    "#\n",
    "\n",
    "def retract_probe(start_joints, transform, z_height, duration):\n",
    "    \"\"\"\n",
    "    Moves the probe in the z-direction. \n",
    "    \"\"\"\n",
    "\n",
    "    pos = transform.translation()\n",
    "    pos[2] += z_height\n",
    "    \n",
    "    new_transform = RigidTransform(p=pos, rpy=transform.rotation())\n",
    "    tcp_pose = np.ascontiguousarray(new_transform.GetAsMatrix4())\n",
    "\n",
    "    path = planner.plan_to_tcp_pose(start_joints, tcp_pose)\n",
    "\n",
    "    publish_joint_path(path, duration, meshcat, diagram, context, arm_index)\n",
    "    add_meshcat_triad(meshcat, \"TCP Frame\", X_W_Triad=transform)"
   ]
  },
  {
   "cell_type": "code",
   "execution_count": 29,
   "metadata": {},
   "outputs": [
    {
     "name": "stderr",
     "output_type": "stream",
     "text": [
      "\u001b[32m2024-02-26 00:17:08.284\u001b[0m | \u001b[1mINFO    \u001b[0m | \u001b[36mtools.ompl.single_arm_planner\u001b[0m:\u001b[36mplan_to_tcp_pose\u001b[0m:\u001b[36m156\u001b[0m - \u001b[1mIK returned 8 solutions.\u001b[0m\n",
      "\u001b[32m2024-02-26 00:17:08.285\u001b[0m | \u001b[1mINFO    \u001b[0m | \u001b[36mtools.ompl.single_arm_planner\u001b[0m:\u001b[36mplan_to_tcp_pose\u001b[0m:\u001b[36m167\u001b[0m - \u001b[1mFound 8/8 solutions within joint bounds.\u001b[0m\n",
      "\u001b[32m2024-02-26 00:17:08.291\u001b[0m | \u001b[1mINFO    \u001b[0m | \u001b[36mtools.ompl.single_arm_planner\u001b[0m:\u001b[36mplan_to_tcp_pose\u001b[0m:\u001b[36m174\u001b[0m - \u001b[1mFound 4/8 valid solutions.\u001b[0m\n",
      "\u001b[32m2024-02-26 00:17:09.118\u001b[0m | \u001b[1mINFO    \u001b[0m | \u001b[36mtools.ompl.single_arm_planner\u001b[0m:\u001b[36mplan_to_tcp_pose\u001b[0m:\u001b[36m203\u001b[0m - \u001b[1mFound 4 paths towards IK solutions:\u001b[0m\n",
      "\u001b[32m2024-02-26 00:17:09.118\u001b[0m | \u001b[1mINFO    \u001b[0m | \u001b[36mtools.ompl.single_arm_planner\u001b[0m:\u001b[36mplan_to_tcp_pose\u001b[0m:\u001b[36m204\u001b[0m - \u001b[1mPath lengths: [5.072, 5.665, 1.26, 6.502]\u001b[0m\n",
      "\u001b[32m2024-02-26 00:17:09.119\u001b[0m | \u001b[1mINFO    \u001b[0m | \u001b[36mtools.ompl.single_arm_planner\u001b[0m:\u001b[36mplan_to_tcp_pose\u001b[0m:\u001b[36m205\u001b[0m - \u001b[1mPath distances: [5.072, 5.665, 1.26, 4.875]\u001b[0m\n",
      "\u001b[32m2024-02-26 00:17:09.120\u001b[0m | \u001b[1mINFO    \u001b[0m | \u001b[36mtools.ompl.single_arm_planner\u001b[0m:\u001b[36mplan_to_tcp_pose\u001b[0m:\u001b[36m220\u001b[0m - \u001b[1mLength of chosen solution (= shortest path): 1.260\u001b[0m\n"
     ]
    },
    {
     "name": "stdout",
     "output_type": "stream",
     "text": [
      "Debug:   RRTConnect: Planner range detected to be 6.156239\n",
      "Info:    RRTConnect: Starting planning with 1 states already in datastructure\n",
      "Info:    RRTConnect: Created 5 states (2 start + 3 goal)\n",
      "Info:    Solution found in 0.074511 seconds\n",
      "Info:    SimpleSetup: Path simplification took 0.099209 seconds and changed from 3 to 2 states\n",
      "Info:    RRTConnect: Starting planning with 1 states already in datastructure\n",
      "Info:    RRTConnect: Created 4 states (2 start + 2 goal)\n",
      "Info:    Solution found in 0.023282 seconds\n",
      "Info:    SimpleSetup: Path simplification took 0.110146 seconds and changed from 3 to 2 states\n",
      "Info:    RRTConnect: Starting planning with 1 states already in datastructure\n",
      "Info:    RRTConnect: Created 5 states (2 start + 3 goal)\n",
      "Info:    Solution found in 0.018189 seconds\n",
      "Info:    SimpleSetup: Path simplification took 0.048382 seconds and changed from 4 to 2 states\n",
      "Info:    RRTConnect: Starting planning with 1 states already in datastructure\n",
      "Info:    RRTConnect: Created 7 states (4 start + 3 goal)\n",
      "Info:    Solution found in 0.112226 seconds\n",
      "Info:    SimpleSetup: Path simplification took 0.294426 seconds and changed from 5 to 3 states\n"
     ]
    }
   ],
   "source": [
    "# Now plan to tcp pose\n",
    "\n",
    "transform = RigidTransform(p=[0.3, 0, 0.3], rpy=RollPitchYaw([np.pi, 0, 0]))\n",
    "tcp_pose_0 = np.ascontiguousarray(transform.GetAsMatrix4())\n",
    "\n",
    "path = planner.plan_to_tcp_pose(start_joints, tcp_pose_0)\n",
    "\n",
    "publish_joint_path(path, 5.0, meshcat, diagram, context, arm_index)\n",
    "add_meshcat_triad(meshcat, \"TCP Frame\", X_W_Triad=transform)"
   ]
  },
  {
   "cell_type": "code",
   "execution_count": null,
   "metadata": {},
   "outputs": [],
   "source": []
  }
 ],
 "metadata": {
  "kernelspec": {
   "display_name": "Python 3",
   "language": "python",
   "name": "python3"
  },
  "language_info": {
   "codemirror_mode": {
    "name": "ipython",
    "version": 3
   },
   "file_extension": ".py",
   "mimetype": "text/x-python",
   "name": "python",
   "nbconvert_exporter": "python",
   "pygments_lexer": "ipython3",
   "version": "3.10.12"
  }
 },
 "nbformat": 4,
 "nbformat_minor": 2
}
