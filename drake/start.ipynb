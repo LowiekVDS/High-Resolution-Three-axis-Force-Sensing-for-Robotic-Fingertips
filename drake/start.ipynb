{
 "cells": [
  {
   "cell_type": "code",
   "execution_count": 3,
   "metadata": {},
   "outputs": [],
   "source": [
    "import numpy as np\n",
    "import airo_models\n",
    "from pydrake.common import temp_directory\n",
    "from pydrake.geometry import StartMeshcat\n",
    "from pydrake.math import RigidTransform, RollPitchYaw\n",
    "from pydrake.multibody.parsing import Parser\n",
    "from pydrake.multibody.plant import AddMultibodyPlantSceneGraph\n",
    "from pydrake.systems.analysis import Simulator\n",
    "from pydrake.geometry import MeshcatVisualizer\n",
    "from pydrake.planning import RobotDiagramBuilder, SceneGraphCollisionChecker\n",
    "from tools.visualization import add_meshcat_triad\n",
    "from tools.scenes import *\n",
    "from tools.building import *"
   ]
  },
  {
   "cell_type": "code",
   "execution_count": 28,
   "metadata": {},
   "outputs": [
    {
     "name": "stderr",
     "output_type": "stream",
     "text": [
      "INFO:drake:Meshcat listening for connections at http://localhost:7000\n",
      "INFO:drake:Allocating contexts to support implicit context parallelism 12\n"
     ]
    }
   ],
   "source": [
    "# Setup the robot diagram\n",
    "\n",
    "robot_diagram_builder = RobotDiagramBuilder()\n",
    "meshcat = add_meshcat_to_builder(robot_diagram_builder)\n",
    "arm_index, gripper_index = add_ur3e_and_table_to_builder(robot_diagram_builder)\n",
    "\n",
    "diagram, context = finish_build(robot_diagram_builder, meshcat)\n",
    "plant = diagram.plant()\n",
    "plant_context = plant.GetMyContextFromRoot(context)\n",
    "\n",
    "collision_checker = SceneGraphCollisionChecker(\n",
    "    model=diagram,\n",
    "    robot_model_instances=[arm_index, gripper_index],\n",
    "    edge_step_size=0.125,  # Arbitrary value: we don't use the CheckEdgeCollisionFree\n",
    "    env_collision_padding=0.005,\n",
    "    self_collision_padding=0.005,\n",
    ")\n",
    "\n",
    "# Setup initial pose\n",
    "start_joints = np.deg2rad([0, -90, -90, -90, 90, 0])\n",
    "plant.SetPositions(plant_context, arm_index, start_joints)\n",
    "diagram.ForcedPublish(context)\n",
    "\n",
    "add_meshcat_triad(meshcat, \"World\", X_W_Triad=RigidTransform(p=[0, 0, 0], rpy=RollPitchYaw([0, 0, 0])))\n",
    "\n",
    "# Planner setup\n",
    "from ur_analytic_ik import ur3e\n",
    "from tools.ompl.single_arm_planner import SingleArmOmplPlanner\n",
    "from tools.visualization import publish_joint_path\n",
    "\n",
    "tcp_transform = np.identity(4)\n",
    "\n",
    "def inverse_kinematics_fn(tcp_pose):\n",
    "    solutions_1x6 = ur3e.inverse_kinematics_with_tcp(tcp_pose, tcp_transform)\n",
    "    solutions = [solution.squeeze() for solution in solutions_1x6]\n",
    "    return solutions\n",
    "\n",
    "planner = SingleArmOmplPlanner(collision_checker.CheckConfigCollisionFree, inverse_kinematics_fn)"
   ]
  },
  {
   "cell_type": "code",
   "execution_count": 29,
   "metadata": {},
   "outputs": [
    {
     "name": "stderr",
     "output_type": "stream",
     "text": [
      "\u001b[32m2024-02-26 00:17:08.284\u001b[0m | \u001b[1mINFO    \u001b[0m | \u001b[36mtools.ompl.single_arm_planner\u001b[0m:\u001b[36mplan_to_tcp_pose\u001b[0m:\u001b[36m156\u001b[0m - \u001b[1mIK returned 8 solutions.\u001b[0m\n",
      "\u001b[32m2024-02-26 00:17:08.285\u001b[0m | \u001b[1mINFO    \u001b[0m | \u001b[36mtools.ompl.single_arm_planner\u001b[0m:\u001b[36mplan_to_tcp_pose\u001b[0m:\u001b[36m167\u001b[0m - \u001b[1mFound 8/8 solutions within joint bounds.\u001b[0m\n",
      "\u001b[32m2024-02-26 00:17:08.291\u001b[0m | \u001b[1mINFO    \u001b[0m | \u001b[36mtools.ompl.single_arm_planner\u001b[0m:\u001b[36mplan_to_tcp_pose\u001b[0m:\u001b[36m174\u001b[0m - \u001b[1mFound 4/8 valid solutions.\u001b[0m\n",
      "\u001b[32m2024-02-26 00:17:09.118\u001b[0m | \u001b[1mINFO    \u001b[0m | \u001b[36mtools.ompl.single_arm_planner\u001b[0m:\u001b[36mplan_to_tcp_pose\u001b[0m:\u001b[36m203\u001b[0m - \u001b[1mFound 4 paths towards IK solutions:\u001b[0m\n",
      "\u001b[32m2024-02-26 00:17:09.118\u001b[0m | \u001b[1mINFO    \u001b[0m | \u001b[36mtools.ompl.single_arm_planner\u001b[0m:\u001b[36mplan_to_tcp_pose\u001b[0m:\u001b[36m204\u001b[0m - \u001b[1mPath lengths: [5.072, 5.665, 1.26, 6.502]\u001b[0m\n",
      "\u001b[32m2024-02-26 00:17:09.119\u001b[0m | \u001b[1mINFO    \u001b[0m | \u001b[36mtools.ompl.single_arm_planner\u001b[0m:\u001b[36mplan_to_tcp_pose\u001b[0m:\u001b[36m205\u001b[0m - \u001b[1mPath distances: [5.072, 5.665, 1.26, 4.875]\u001b[0m\n",
      "\u001b[32m2024-02-26 00:17:09.120\u001b[0m | \u001b[1mINFO    \u001b[0m | \u001b[36mtools.ompl.single_arm_planner\u001b[0m:\u001b[36mplan_to_tcp_pose\u001b[0m:\u001b[36m220\u001b[0m - \u001b[1mLength of chosen solution (= shortest path): 1.260\u001b[0m\n"
     ]
    },
    {
     "name": "stdout",
     "output_type": "stream",
     "text": [
      "Debug:   RRTConnect: Planner range detected to be 6.156239\n",
      "Info:    RRTConnect: Starting planning with 1 states already in datastructure\n",
      "Info:    RRTConnect: Created 5 states (2 start + 3 goal)\n",
      "Info:    Solution found in 0.074511 seconds\n",
      "Info:    SimpleSetup: Path simplification took 0.099209 seconds and changed from 3 to 2 states\n",
      "Info:    RRTConnect: Starting planning with 1 states already in datastructure\n",
      "Info:    RRTConnect: Created 4 states (2 start + 2 goal)\n",
      "Info:    Solution found in 0.023282 seconds\n",
      "Info:    SimpleSetup: Path simplification took 0.110146 seconds and changed from 3 to 2 states\n",
      "Info:    RRTConnect: Starting planning with 1 states already in datastructure\n",
      "Info:    RRTConnect: Created 5 states (2 start + 3 goal)\n",
      "Info:    Solution found in 0.018189 seconds\n",
      "Info:    SimpleSetup: Path simplification took 0.048382 seconds and changed from 4 to 2 states\n",
      "Info:    RRTConnect: Starting planning with 1 states already in datastructure\n",
      "Info:    RRTConnect: Created 7 states (4 start + 3 goal)\n",
      "Info:    Solution found in 0.112226 seconds\n",
      "Info:    SimpleSetup: Path simplification took 0.294426 seconds and changed from 5 to 3 states\n"
     ]
    }
   ],
   "source": [
    "# Now plan to tcp pose\n",
    "\n",
    "transform = RigidTransform(p=[0.3, 0, 0.3], rpy=RollPitchYaw([np.pi, 0, 0]))\n",
    "tcp_pose_0 = np.ascontiguousarray(transform.GetAsMatrix4())\n",
    "\n",
    "path = planner.plan_to_tcp_pose(start_joints, tcp_pose_0)\n",
    "\n",
    "publish_joint_path(path, 5.0, meshcat, diagram, context, arm_index)\n",
    "add_meshcat_triad(meshcat, \"TCP Frame\", X_W_Triad=transform)"
   ]
  },
  {
   "cell_type": "code",
   "execution_count": null,
   "metadata": {},
   "outputs": [],
   "source": []
  }
 ],
 "metadata": {
  "kernelspec": {
   "display_name": "Python 3",
   "language": "python",
   "name": "python3"
  },
  "language_info": {
   "codemirror_mode": {
    "name": "ipython",
    "version": 3
   },
   "file_extension": ".py",
   "mimetype": "text/x-python",
   "name": "python",
   "nbconvert_exporter": "python",
   "pygments_lexer": "ipython3",
   "version": "3.10.12"
  }
 },
 "nbformat": 4,
 "nbformat_minor": 2
}
